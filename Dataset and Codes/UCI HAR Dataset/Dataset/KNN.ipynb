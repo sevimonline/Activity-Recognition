{
 "cells": [
  {
   "cell_type": "markdown",
   "id": "9a3e6c34-4a25-486d-bb98-5be7d5d09dd0",
   "metadata": {},
   "source": [
    "# KNN"
   ]
  },
  {
   "cell_type": "code",
   "execution_count": 1,
   "id": "cfaac552-c05c-4ae8-9390-4d5ab627a71e",
   "metadata": {},
   "outputs": [],
   "source": [
    "import numpy as np\n",
    "import matplotlib.pyplot as plt\n",
    "import seaborn as sns\n",
    "import pandas as pd"
   ]
  },
  {
   "cell_type": "code",
   "execution_count": 2,
   "id": "88df21b5-954f-4dd6-9700-257d2d7ab3f9",
   "metadata": {},
   "outputs": [],
   "source": [
    "columnname = pd.read_excel(\"features.xlsx\")\n",
    "column = columnname[\"degiskenismi\"]"
   ]
  },
  {
   "cell_type": "code",
   "execution_count": 3,
   "id": "e5dd8c35-37ce-4c92-b821-9a5d2f87c55d",
   "metadata": {},
   "outputs": [],
   "source": [
    "x_train = pd.read_excel(\"x_train.xlsx\", names = column)\n",
    "x_test = pd.read_excel(\"x_test.xlsx\", names = column)\n",
    "y_train = pd.read_excel(\"y_train.xlsx\", names = [\"activity\"]) -1\n",
    "y_test = pd.read_excel(\"y_test.xlsx\", names = [\"activity\"]) -1"
   ]
  },
  {
   "cell_type": "code",
   "execution_count": 4,
   "id": "78d08e18-5da6-4e84-93e8-e041666b1fec",
   "metadata": {},
   "outputs": [],
   "source": [
    "from sklearn.model_selection import train_test_split, GridSearchCV\n",
    "from sklearn.neighbors import KNeighborsClassifier\n",
    "from sklearn.metrics import accuracy_score\n",
    "from sklearn.metrics import confusion_matrix\n",
    "from sklearn.metrics import classification_report"
   ]
  },
  {
   "cell_type": "code",
   "execution_count": 8,
   "id": "6712f7f8-a98e-4f6c-b7bc-51ed2ddd9648",
   "metadata": {},
   "outputs": [],
   "source": [
    "# Fitted Knn Model"
   ]
  },
  {
   "cell_type": "code",
   "execution_count": 5,
   "id": "a5862224-d73f-4fa8-b2e7-e73372dc9f5a",
   "metadata": {},
   "outputs": [
    {
     "data": {
      "text/plain": [
       "KNeighborsClassifier()"
      ]
     },
     "execution_count": 5,
     "metadata": {},
     "output_type": "execute_result"
    }
   ],
   "source": [
    "knn = KNeighborsClassifier()\n",
    "knn.fit(x_train,y_train.values.ravel())"
   ]
  },
  {
   "cell_type": "code",
   "execution_count": 9,
   "id": "887a7910-e466-4057-9293-6d8a017d08fb",
   "metadata": {},
   "outputs": [],
   "source": [
    "# Accuracy"
   ]
  },
  {
   "cell_type": "code",
   "execution_count": 6,
   "id": "8a7b6918-6217-41bd-8d24-c59063fcdf05",
   "metadata": {},
   "outputs": [],
   "source": [
    "y_pred = knn.predict(x_test)"
   ]
  },
  {
   "cell_type": "code",
   "execution_count": 7,
   "id": "db6b689b-0221-4f27-8b84-da6f783470ff",
   "metadata": {},
   "outputs": [
    {
     "data": {
      "text/plain": [
       "0.9015614392396469"
      ]
     },
     "execution_count": 7,
     "metadata": {},
     "output_type": "execute_result"
    }
   ],
   "source": [
    "accuracy_score(y_test,y_pred)"
   ]
  },
  {
   "cell_type": "code",
   "execution_count": 10,
   "id": "02b291b9-a8fd-497f-baca-91ad28755b37",
   "metadata": {},
   "outputs": [],
   "source": [
    "# Hyperparameter Optimization - GridSearchCV"
   ]
  },
  {
   "cell_type": "code",
   "execution_count": 11,
   "id": "2b9e97db-2f4d-4ab3-afd9-b1c5fbf5c265",
   "metadata": {},
   "outputs": [],
   "source": [
    "param_grid = {'n_neighbors': [1,2,3,4,5,6,7,8,9],\n",
    "              'weights': ['uniform', 'distance'],\n",
    "              'metric': ['euclidean', 'manhattan']}"
   ]
  },
  {
   "cell_type": "code",
   "execution_count": 12,
   "id": "2a2d9193-b0a7-41ca-9054-d287f3c06c79",
   "metadata": {},
   "outputs": [],
   "source": [
    "#GridSearchCV(cv=10, estimator=KNeighborsClassifier(),\n",
    " #            param_grid={'metric': ['euclidean', 'manhattan'],\n",
    "  #                       'n_neighbors': [1, 2, 3, 4, 5, 6, 7, 8, 9],\n",
    "   #                      'weights': ['uniform', 'distance']})"
   ]
  },
  {
   "cell_type": "code",
   "execution_count": 13,
   "id": "cc896803-80ce-41de-b3d5-936bdd755fb8",
   "metadata": {},
   "outputs": [],
   "source": [
    "# En iyi parametrelerin ve en iyi skorun bulunması\n",
    "# print(\"En iyi parametreler: \", grid_search.best_params_)\n",
    "# print(\"En iyi skor: \", grid_search.best_score_)"
   ]
  },
  {
   "cell_type": "code",
   "execution_count": 14,
   "id": "a4c8cefe-5fc3-4614-ae3b-033439e686ef",
   "metadata": {},
   "outputs": [],
   "source": [
    "#En iyi parametreler:  {'metric': 'manhattan', 'n_neighbors': 9, 'weights': 'distance'}\n",
    "#En iyi skor:  0.9187853076013015"
   ]
  },
  {
   "cell_type": "code",
   "execution_count": 20,
   "id": "1327cc5a-5449-4562-a57e-ed32ac6973ce",
   "metadata": {},
   "outputs": [
    {
     "data": {
      "text/plain": [
       "KNeighborsClassifier(metric='manhattan', n_neighbors=9, weights='distance')"
      ]
     },
     "execution_count": 20,
     "metadata": {},
     "output_type": "execute_result"
    }
   ],
   "source": [
    "# En iyi parametreleri kullanarak modeli eğitme\n",
    "knn_best = KNeighborsClassifier(metric = 'manhattan', n_neighbors = 9, weights =  'distance')\n",
    "knn_best.fit(x_train, y_train.values.ravel())"
   ]
  },
  {
   "cell_type": "code",
   "execution_count": 21,
   "id": "07ddae45-7925-4635-8dc7-de51df5c5e73",
   "metadata": {},
   "outputs": [
    {
     "name": "stdout",
     "output_type": "stream",
     "text": [
      "Accuracy: 0.9168363883231501\n"
     ]
    }
   ],
   "source": [
    "# Test verileri üzerinde modelin performansını değerlendirme\n",
    "accuracy = knn_best.score(x_test, y_test)\n",
    "print(\"Accuracy:\", accuracy)"
   ]
  },
  {
   "cell_type": "code",
   "execution_count": 22,
   "id": "be9db2cf-b8f3-4e3b-b33f-9f6d622d10cc",
   "metadata": {},
   "outputs": [],
   "source": [
    "y_pred = knn_best.predict(x_test)"
   ]
  },
  {
   "cell_type": "code",
   "execution_count": 43,
   "id": "7791f7b9-1a4d-4e78-aa5a-b114af8bc97c",
   "metadata": {},
   "outputs": [
    {
     "data": {
      "image/png": "[encoded data removed]",
      "text/plain": [
       "<Figure size 576x432 with 2 Axes>"
      ]
     },
     "metadata": {
      "needs_background": "light"
     },
     "output_type": "display_data"
    },
    {
     "data": {
      "text/plain": [
       "<Figure size 432x288 with 0 Axes>"
      ]
     },
     "metadata": {},
     "output_type": "display_data"
    }
   ],
   "source": [
    "# Confusion Matrix\n",
    "\n",
    "cm = confusion_matrix(y_test, y_pred)\n",
    "plt.figure(figsize=(8,6))\n",
    "sns.heatmap(cm, annot=True, cmap='Blues', fmt='d')\n",
    "plt.xlabel('Predicted Label')\n",
    "plt.ylabel('True Label')\n",
    "plt.show()\n",
    "plt.savefig(\"grafik.png\", dpi=300)"
   ]
  },
  {
   "cell_type": "code",
   "execution_count": 24,
   "id": "7f733b7d-d8f4-426f-9fd9-f85738ed1f86",
   "metadata": {},
   "outputs": [
    {
     "name": "stdout",
     "output_type": "stream",
     "text": [
      "              precision    recall  f1-score   support\n",
      "\n",
      "           0       0.87      0.98      0.92       496\n",
      "           1       0.88      0.92      0.90       471\n",
      "           2       0.98      0.78      0.87       420\n",
      "           3       0.96      0.82      0.89       491\n",
      "           4       0.86      0.97      0.91       531\n",
      "           5       1.00      1.00      1.00       537\n",
      "\n",
      "    accuracy                           0.92      2946\n",
      "   macro avg       0.92      0.91      0.91      2946\n",
      "weighted avg       0.92      0.92      0.92      2946\n",
      "\n"
     ]
    }
   ],
   "source": [
    "print(classification_report(y_test, y_pred))"
   ]
  },
  {
   "cell_type": "code",
   "execution_count": 57,
   "id": "5b687659-c056-4c4e-bc2a-755d8474f5f1",
   "metadata": {},
   "outputs": [],
   "source": [
    "knn = 92 , rf = 93 , svm = 85 , xgboost = 87"
   ]
  },
  {
   "cell_type": "code",
   "execution_count": 61,
   "id": "03c4add5-68c9-4295-8ddf-aa97b993483c",
   "metadata": {},
   "outputs": [],
   "source": [
    "import matplotlib.pyplot as plt\n",
    "import numpy as np\n",
    "from mpl_toolkits.mplot3d import Axes3D"
   ]
  },
  {
   "cell_type": "code",
   "execution_count": 65,
   "id": "ea02e828-2c4a-4723-a619-773627587235",
   "metadata": {},
   "outputs": [],
   "source": [
    "algorithms = ['KNN', 'RF', 'SVM', 'XGBoost']\n",
    "accuracy = np.array([0.92, 0.93, 0.85, 0.87], dtype=float)\n"
   ]
  },
  {
   "cell_type": "code",
   "execution_count": 68,
   "id": "e0e6c598-4fad-4b65-aaac-ce7cb305dbf2",
   "metadata": {},
   "outputs": [
    {
     "data": {
      "image/png": "[encoded data removed]",
      "text/plain": [
       "<Figure size 576x432 with 1 Axes>"
      ]
     },
     "metadata": {
      "needs_background": "light"
     },
     "output_type": "display_data"
    }
   ],
   "source": [
    "algorithms = ['KNN', 'RF', 'SVM', 'XGBoost']\n",
    "accuracy = np.array([0.92, 0.93, 0.85, 0.87])\n",
    "\n",
    "fig, ax = plt.subplots(figsize=(8, 6))\n",
    "\n",
    "ax.bar(algorithms, accuracy, width=0.4, color=['blue', 'orange', 'green', 'red'])\n",
    "ax.set_ylim([0.8, 1.0])\n",
    "ax.set_ylabel('Accuracy')\n",
    "ax.set_xlabel('Algorithms')\n",
    "ax.set_title('Comparison of Classification Algorithms')\n",
    "\n",
    "plt.show()"
   ]
  }
 ],
 "metadata": {
  "kernelspec": {
   "display_name": "Python 3 (ipykernel)",
   "language": "python",
   "name": "python3"
  },
  "language_info": {
   "codemirror_mode": {
    "name": "ipython",
    "version": 3
   },
   "file_extension": ".py",
   "mimetype": "text/x-python",
   "name": "python",
   "nbconvert_exporter": "python",
   "pygments_lexer": "ipython3",
   "version": "3.9.12"
  }
 },
 "nbformat": 4,
 "nbformat_minor": 5
}
