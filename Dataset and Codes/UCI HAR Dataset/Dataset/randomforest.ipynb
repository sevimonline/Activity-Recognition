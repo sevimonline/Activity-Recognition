{
 "cells": [
  {
   "cell_type": "markdown",
   "id": "974db3dc-6540-4af9-b072-ef5830945225",
   "metadata": {},
   "source": [
    "# *Random Forest*"
   ]
  },
  {
   "cell_type": "code",
   "execution_count": 3,
   "id": "e6b018ca-1dbe-47a0-9ad7-aa07e83f908b",
   "metadata": {},
   "outputs": [],
   "source": [
    "import numpy as np\n",
    "import matplotlib.pyplot as plt\n",
    "import seaborn as sns\n",
    "import pandas as pd"
   ]
  },
  {
   "cell_type": "code",
   "execution_count": 4,
   "id": "daedc392-2d87-43b9-8fd9-1939987aefb1",
   "metadata": {},
   "outputs": [],
   "source": [
    "columnname = pd.read_excel(\"features.xlsx\")\n",
    "column = columnname[\"degiskenismi\"]"
   ]
  },
  {
   "cell_type": "code",
   "execution_count": 5,
   "id": "9f4b2452-542b-4a7b-ac87-a332d0aae546",
   "metadata": {},
   "outputs": [],
   "source": [
    "x_train = pd.read_excel(\"x_train.xlsx\", names = column)\n",
    "x_test = pd.read_excel(\"x_test.xlsx\", names = column)\n",
    "y_train = pd.read_excel(\"y_train.xlsx\", names = [\"activity\"]) -1\n",
    "y_test = pd.read_excel(\"y_test.xlsx\", names = [\"activity\"]) -1"
   ]
  },
  {
   "cell_type": "code",
   "execution_count": 6,
   "id": "d1a043b1-e10d-445b-ab77-72ae25df8d2a",
   "metadata": {},
   "outputs": [],
   "source": [
    "from sklearn.ensemble import RandomForestClassifier\n",
    "from sklearn.model_selection import GridSearchCV\n",
    "from sklearn.datasets import load_iris\n",
    "from sklearn.model_selection import train_test_split\n",
    "from sklearn.metrics import accuracy_score"
   ]
  },
  {
   "cell_type": "code",
   "execution_count": 7,
   "id": "8586ffe5-2e46-40e2-8073-5b0d5665fe5b",
   "metadata": {},
   "outputs": [],
   "source": [
    "rf = RandomForestClassifier().fit(x_train,y_train.values.ravel())"
   ]
  },
  {
   "cell_type": "code",
   "execution_count": 8,
   "id": "d2f4ef45-7718-4199-b0a4-06a9499a1db2",
   "metadata": {},
   "outputs": [
    {
     "data": {
      "text/plain": [
       "0.9276985743380856"
      ]
     },
     "execution_count": 8,
     "metadata": {},
     "output_type": "execute_result"
    }
   ],
   "source": [
    "y_pred = rf.predict(x_test)\n",
    "accuracy_score(y_test,y_pred)"
   ]
  },
  {
   "cell_type": "markdown",
   "id": "5e172c61-1466-4821-84a2-c51ddd35e187",
   "metadata": {},
   "source": [
    "# Random Forest GridSearchCV"
   ]
  },
  {
   "cell_type": "code",
   "execution_count": 9,
   "id": "d18974fa-ff4d-43a6-aae5-f04e98198320",
   "metadata": {},
   "outputs": [],
   "source": [
    "from sklearn.metrics import accuracy_score\n",
    "from sklearn.metrics import confusion_matrix\n",
    "from sklearn.metrics import classification_report"
   ]
  },
  {
   "cell_type": "code",
   "execution_count": 10,
   "id": "02523bc1-d970-46d3-b125-a2a2e18cdb8a",
   "metadata": {},
   "outputs": [],
   "source": [
    "param_grid = {\n",
    "    'n_estimators': [100, 500, 1000],\n",
    "    'max_depth': [None, 10, 20],\n",
    "    'min_samples_split': [2, 5, 10],\n",
    "    'min_samples_leaf': [1, 2, 4]\n",
    "}"
   ]
  },
  {
   "cell_type": "code",
   "execution_count": 13,
   "id": "432853a6-fb18-430c-bca8-314b8bb41b87",
   "metadata": {},
   "outputs": [],
   "source": [
    "grid_search = GridSearchCV(estimator=rf, param_grid=param_grid, cv=5)"
   ]
  },
  {
   "cell_type": "code",
   "execution_count": 15,
   "id": "2ae213a1-9711-47c8-a864-516098c99389",
   "metadata": {},
   "outputs": [
    {
     "data": {
      "text/plain": [
       "GridSearchCV(cv=5, estimator=RandomForestClassifier(),\n",
       "             param_grid={'max_depth': [None, 10, 20],\n",
       "                         'min_samples_leaf': [1, 2, 4],\n",
       "                         'min_samples_split': [2, 5, 10],\n",
       "                         'n_estimators': [100, 500, 1000]})"
      ]
     },
     "execution_count": 15,
     "metadata": {},
     "output_type": "execute_result"
    }
   ],
   "source": [
    "grid_search.fit(x_train, y_train.values.ravel())"
   ]
  },
  {
   "cell_type": "code",
   "execution_count": 16,
   "id": "1ff4a583-ac8b-4412-b6fc-b047ec79d42e",
   "metadata": {},
   "outputs": [
    {
     "data": {
      "text/plain": [
       "RandomForestClassifier(max_depth=20, min_samples_leaf=4, min_samples_split=10,\n",
       "                       n_estimators=500)"
      ]
     },
     "execution_count": 16,
     "metadata": {},
     "output_type": "execute_result"
    }
   ],
   "source": [
    "rf_best = RandomForestClassifier(**grid_search.best_params_)\n",
    "rf_best.fit(x_train, y_train.values.ravel())"
   ]
  },
  {
   "cell_type": "code",
   "execution_count": 17,
   "id": "cbdd2e70-33b6-447e-b516-3edfd739fe62",
   "metadata": {},
   "outputs": [
    {
     "name": "stdout",
     "output_type": "stream",
     "text": [
      "Accuracy: 0.9253224711473184\n"
     ]
    }
   ],
   "source": [
    "accuracy = rf_best.score(x_test, y_test)\n",
    "print(\"Accuracy:\", accuracy)"
   ]
  },
  {
   "cell_type": "code",
   "execution_count": 18,
   "id": "ce834eda-714b-45ce-93cc-ef23c613f782",
   "metadata": {},
   "outputs": [],
   "source": [
    "y_pred = rf_best.predict(x_test)"
   ]
  },
  {
   "cell_type": "code",
   "execution_count": 21,
   "id": "adcdc2d8-ea7d-4947-9768-e3a14333b4c7",
   "metadata": {},
   "outputs": [
    {
     "data": {
      "image/png": "[encoded data removed]",
      "text/plain": [
       "<Figure size 576x432 with 2 Axes>"
      ]
     },
     "metadata": {
      "needs_background": "light"
     },
     "output_type": "display_data"
    }
   ],
   "source": [
    "\n",
    "cm = confusion_matrix(y_test, y_pred)\n",
    "plt.figure(figsize=(8, 6))\n",
    "sns.heatmap(cm, annot=True, cmap='Blues', fmt='d')\n",
    "plt.xlabel('Predicted Label')\n",
    "plt.ylabel('True Label')\n",
    "plt.show()"
   ]
  },
  {
   "cell_type": "code",
   "execution_count": 25,
   "id": "ce0e4256-073b-4c71-a732-9ad9a31c6421",
   "metadata": {},
   "outputs": [
    {
     "name": "stdout",
     "output_type": "stream",
     "text": [
      "              precision    recall  f1-score   support\n",
      "\n",
      "           0       0.90      0.97      0.93       496\n",
      "           1       0.89      0.92      0.91       471\n",
      "           2       0.96      0.84      0.89       420\n",
      "           3       0.91      0.88      0.90       491\n",
      "           4       0.90      0.92      0.91       531\n",
      "           5       1.00      1.00      1.00       537\n",
      "\n",
      "    accuracy                           0.93      2946\n",
      "   macro avg       0.93      0.92      0.92      2946\n",
      "weighted avg       0.93      0.93      0.93      2946\n",
      "\n"
     ]
    }
   ],
   "source": [
    "print(classification_report(y_test, y_pred))"
   ]
  }
 ],
 "metadata": {
  "kernelspec": {
   "display_name": "Python 3 (ipykernel)",
   "language": "python",
   "name": "python3"
  },
  "language_info": {
   "codemirror_mode": {
    "name": "ipython",
    "version": 3
   },
   "file_extension": ".py",
   "mimetype": "text/x-python",
   "name": "python",
   "nbconvert_exporter": "python",
   "pygments_lexer": "ipython3",
   "version": "3.9.12"
  }
 },
 "nbformat": 4,
 "nbformat_minor": 5
}
