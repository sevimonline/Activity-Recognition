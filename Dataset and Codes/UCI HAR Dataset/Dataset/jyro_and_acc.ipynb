{
 "cells": [
  {
   "cell_type": "code",
   "execution_count": 1,
   "id": "15f7217f",
   "metadata": {},
   "outputs": [],
   "source": [
    "import numpy as np\n",
    "import matplotlib.pyplot as plt\n",
    "import seaborn as sns\n",
    "import pandas as pd"
   ]
  },
  {
   "cell_type": "code",
   "execution_count": 2,
   "id": "855a461b",
   "metadata": {},
   "outputs": [],
   "source": [
    "columnname = pd.read_excel(\"features.xlsx\")\n",
    "column = columnname[\"degiskenismi\"]"
   ]
  },
  {
   "cell_type": "code",
   "execution_count": 3,
   "id": "9b06121a",
   "metadata": {},
   "outputs": [],
   "source": [
    "x_train = pd.read_excel(\"x_train.xlsx\", names = column)\n",
    "x_test = pd.read_excel(\"x_test.xlsx\", names = column)\n",
    "y_train = pd.read_excel(\"y_train.xlsx\", names = [\"activity\"]) -1\n",
    "y_test = pd.read_excel(\"y_test.xlsx\", names = [\"activity\"]) -1"
   ]
  },
  {
   "cell_type": "code",
   "execution_count": 34,
   "id": "ae764341",
   "metadata": {},
   "outputs": [],
   "source": [
    "from sklearn.neighbors import KNeighborsClassifier\n",
    "from sklearn.ensemble import RandomForestClassifier\n",
    "from xgboost import XGBClassifier\n",
    "from sklearn.svm import SVC\n",
    "from sklearn.metrics import classification_report, confusion_matrix\n"
   ]
  },
  {
   "cell_type": "markdown",
   "id": "b7f15efb",
   "metadata": {},
   "source": [
    "# GYROSCOPE"
   ]
  },
  {
   "cell_type": "markdown",
   "id": "72f1679d",
   "metadata": {},
   "source": [
    "### knn"
   ]
  },
  {
   "cell_type": "code",
   "execution_count": 10,
   "id": "26bd3186",
   "metadata": {},
   "outputs": [],
   "source": [
    "x_train_copy = x_train.copy()\n",
    "x_test_copy = x_test.copy()"
   ]
  },
  {
   "cell_type": "code",
   "execution_count": 11,
   "id": "3a3a6824",
   "metadata": {},
   "outputs": [],
   "source": [
    "for var_name in x_train_copy.columns:\n",
    "    if 'Acc' in var_name:\n",
    "        del x_train_copy[var_name]"
   ]
  },
  {
   "cell_type": "code",
   "execution_count": 12,
   "id": "70cf2637",
   "metadata": {},
   "outputs": [],
   "source": [
    "for var_name in x_test_copy.columns:\n",
    "    if 'Acc' in var_name:\n",
    "        del x_test_copy[var_name]"
   ]
  },
  {
   "cell_type": "code",
   "execution_count": 89,
   "id": "1d0221ab",
   "metadata": {},
   "outputs": [
    {
     "data": {
      "text/plain": [
       "KNeighborsClassifier()"
      ]
     },
     "execution_count": 89,
     "metadata": {},
     "output_type": "execute_result"
    }
   ],
   "source": [
    "knn = KNeighborsClassifier()\n",
    "knn.fit(x_train_copy, y_train.values.ravel())"
   ]
  },
  {
   "cell_type": "code",
   "execution_count": 71,
   "id": "c179da3a",
   "metadata": {},
   "outputs": [],
   "source": [
    "y_pred = knn.predict(x_test_copy)"
   ]
  },
  {
   "cell_type": "code",
   "execution_count": 16,
   "id": "9d7a09bf",
   "metadata": {},
   "outputs": [
    {
     "name": "stdout",
     "output_type": "stream",
     "text": [
      "              precision    recall  f1-score   support\n",
      "\n",
      "           0       0.70      0.84      0.77       496\n",
      "           1       0.86      0.75      0.80       471\n",
      "           2       0.76      0.71      0.74       420\n",
      "           3       0.82      0.75      0.78       491\n",
      "           4       0.79      0.89      0.84       531\n",
      "           5       1.00      0.95      0.97       537\n",
      "\n",
      "    accuracy                           0.82      2946\n",
      "   macro avg       0.82      0.81      0.82      2946\n",
      "weighted avg       0.83      0.82      0.82      2946\n",
      "\n"
     ]
    }
   ],
   "source": [
    "print(classification_report(y_test, y_pred))"
   ]
  },
  {
   "cell_type": "code",
   "execution_count": 17,
   "id": "209885d2",
   "metadata": {},
   "outputs": [
    {
     "name": "stdout",
     "output_type": "stream",
     "text": [
      "[[417  15  64   0   0   0]\n",
      " [ 90 352  29   0   0   0]\n",
      " [ 86  35 299   0   0   0]\n",
      " [  0   2   0 368 121   0]\n",
      " [  1   3   1  55 471   0]\n",
      " [  0   1   0  24   2 510]]\n"
     ]
    }
   ],
   "source": [
    "print(confusion_matrix(y_test, y_pred))"
   ]
  },
  {
   "cell_type": "code",
   "execution_count": 18,
   "id": "2455d827",
   "metadata": {},
   "outputs": [],
   "source": [
    "cm = confusion_matrix(y_test, y_pred)"
   ]
  },
  {
   "cell_type": "code",
   "execution_count": 20,
   "id": "7df5bbf6",
   "metadata": {},
   "outputs": [
    {
     "data": {
      "image/png": "[encoded data removed]",
      "text/plain": [
       "<Figure size 576x432 with 2 Axes>"
      ]
     },
     "metadata": {
      "needs_background": "light"
     },
     "output_type": "display_data"
    }
   ],
   "source": [
    "cm = confusion_matrix(y_test, y_pred)\n",
    "plt.figure(figsize=(8,6))\n",
    "sns.heatmap(cm, annot=True, cmap='Blues', fmt='d')\n",
    "plt.xlabel('Predicted Label')\n",
    "plt.ylabel('True Label')\n",
    "plt.show()"
   ]
  },
  {
   "cell_type": "code",
   "execution_count": 90,
   "id": "4338d355",
   "metadata": {},
   "outputs": [
    {
     "data": {
      "image/png": "[encoded data removed]",
      "text/plain": [
       "<Figure size 432x288 with 1 Axes>"
      ]
     },
     "metadata": {
      "needs_background": "light"
     },
     "output_type": "display_data"
    }
   ],
   "source": [
    "train_accuracy = knn.score(x_train_copy, y_train.values.ravel())\n",
    "test_accuracy = knn.score(x_test_copy, y_test.values.ravel())\n",
    "\n",
    "# Eğitim ve test başarılarını grafik olarak çizdirme\n",
    "accuracies = [train_accuracy, test_accuracy]\n",
    "plt.bar([\"Train Accuracy\", \"Test Accuracy\"], accuracies)\n",
    "plt.ylabel(\"Accuracy\")\n",
    "plt.title(\"KNN Performance With Gyroscope\")\n",
    "plt.show()"
   ]
  },
  {
   "cell_type": "markdown",
   "id": "423412b9",
   "metadata": {},
   "source": [
    "### random forest"
   ]
  },
  {
   "cell_type": "code",
   "execution_count": 22,
   "id": "ac4bedd0",
   "metadata": {},
   "outputs": [
    {
     "data": {
      "text/plain": [
       "RandomForestClassifier()"
      ]
     },
     "execution_count": 22,
     "metadata": {},
     "output_type": "execute_result"
    }
   ],
   "source": [
    "rfc = RandomForestClassifier()\n",
    "rfc.fit(x_train_copy, y_train.values.ravel())"
   ]
  },
  {
   "cell_type": "code",
   "execution_count": 25,
   "id": "a00e6e43",
   "metadata": {},
   "outputs": [],
   "source": [
    "y_pred_rf = rfc.predict(x_test_copy)"
   ]
  },
  {
   "cell_type": "code",
   "execution_count": 26,
   "id": "f5b3b4e2",
   "metadata": {},
   "outputs": [
    {
     "name": "stdout",
     "output_type": "stream",
     "text": [
      "              precision    recall  f1-score   support\n",
      "\n",
      "           0       0.89      0.85      0.87       496\n",
      "           1       0.89      0.94      0.92       471\n",
      "           2       0.81      0.81      0.81       420\n",
      "           3       0.97      0.88      0.92       491\n",
      "           4       0.90      0.97      0.93       531\n",
      "           5       1.00      1.00      1.00       537\n",
      "\n",
      "    accuracy                           0.91      2946\n",
      "   macro avg       0.91      0.91      0.91      2946\n",
      "weighted avg       0.91      0.91      0.91      2946\n",
      "\n"
     ]
    }
   ],
   "source": [
    "print(classification_report(y_test, y_pred_rf))"
   ]
  },
  {
   "cell_type": "code",
   "execution_count": 27,
   "id": "a8abbeb0",
   "metadata": {},
   "outputs": [
    {
     "data": {
      "image/png": "[encoded data removed]",
      "text/plain": [
       "<Figure size 576x432 with 2 Axes>"
      ]
     },
     "metadata": {
      "needs_background": "light"
     },
     "output_type": "display_data"
    }
   ],
   "source": [
    "cm = confusion_matrix(y_test, y_pred_rf)\n",
    "plt.figure(figsize=(8,6))\n",
    "sns.heatmap(cm, annot=True, cmap='Blues', fmt='d')\n",
    "plt.xlabel('Predicted Label')\n",
    "plt.ylabel('True Label')\n",
    "plt.show()"
   ]
  },
  {
   "cell_type": "code",
   "execution_count": 93,
   "id": "141c41e1",
   "metadata": {},
   "outputs": [
    {
     "data": {
      "image/png": "[encoded data removed]",
      "text/plain": [
       "<Figure size 432x288 with 1 Axes>"
      ]
     },
     "metadata": {
      "needs_background": "light"
     },
     "output_type": "display_data"
    }
   ],
   "source": [
    "train_accuracy = rfc.score(x_train_copy, y_train.values.ravel())\n",
    "test_accuracy = rfc.score(x_test_copy, y_test.values.ravel())\n",
    "\n",
    "# Eğitim ve test başarılarını grafik olarak çizdirme\n",
    "accuracies = [train_accuracy, test_accuracy]\n",
    "plt.bar([\"Train Accuracy\", \"Test Accuracy\"], accuracies)\n",
    "plt.ylabel(\"Accuracy\")\n",
    "plt.title(\"Random Forest Performance With Gyroscope\")\n",
    "plt.show()"
   ]
  },
  {
   "cell_type": "markdown",
   "id": "ce30ca09",
   "metadata": {},
   "source": [
    "### xgboost\n"
   ]
  },
  {
   "cell_type": "code",
   "execution_count": 83,
   "id": "8a3d08c8",
   "metadata": {},
   "outputs": [
    {
     "data": {
      "text/plain": [
       "XGBClassifier(base_score=None, booster=None, callbacks=None,\n",
       "              colsample_bylevel=None, colsample_bynode=None,\n",
       "              colsample_bytree=None, early_stopping_rounds=None,\n",
       "              enable_categorical=False, eval_metric=None, feature_types=None,\n",
       "              gamma=None, gpu_id=None, grow_policy=None, importance_type=None,\n",
       "              interaction_constraints=None, learning_rate=None, max_bin=None,\n",
       "              max_cat_threshold=None, max_cat_to_onehot=None,\n",
       "              max_delta_step=None, max_depth=None, max_leaves=None,\n",
       "              min_child_weight=None, missing=nan, monotone_constraints=None,\n",
       "              n_estimators=100, n_jobs=None, num_parallel_tree=None,\n",
       "              objective='multi:softprob', predictor=None, ...)"
      ]
     },
     "execution_count": 83,
     "metadata": {},
     "output_type": "execute_result"
    }
   ],
   "source": [
    "model = XGBClassifier()\n",
    "model.fit(x_train_copy, y_train.values.ravel())"
   ]
  },
  {
   "cell_type": "code",
   "execution_count": 30,
   "id": "9795c56f",
   "metadata": {},
   "outputs": [],
   "source": [
    "y_pred_xgb = model.predict(x_test_copy)"
   ]
  },
  {
   "cell_type": "code",
   "execution_count": 31,
   "id": "1475ee98",
   "metadata": {},
   "outputs": [
    {
     "name": "stdout",
     "output_type": "stream",
     "text": [
      "              precision    recall  f1-score   support\n",
      "\n",
      "           0       0.91      0.84      0.87       496\n",
      "           1       0.84      0.90      0.87       471\n",
      "           2       0.81      0.83      0.82       420\n",
      "           3       0.94      0.86      0.90       491\n",
      "           4       0.88      0.94      0.91       531\n",
      "           5       1.00      1.00      1.00       537\n",
      "\n",
      "    accuracy                           0.90      2946\n",
      "   macro avg       0.90      0.89      0.89      2946\n",
      "weighted avg       0.90      0.90      0.90      2946\n",
      "\n"
     ]
    }
   ],
   "source": [
    "print(classification_report(y_test, y_pred_xgb))"
   ]
  },
  {
   "cell_type": "code",
   "execution_count": 32,
   "id": "8246f647",
   "metadata": {},
   "outputs": [
    {
     "data": {
      "image/png": "[encoded data removed]",
      "text/plain": [
       "<Figure size 576x432 with 2 Axes>"
      ]
     },
     "metadata": {
      "needs_background": "light"
     },
     "output_type": "display_data"
    }
   ],
   "source": [
    "cm = confusion_matrix(y_test, y_pred_xgb)\n",
    "plt.figure(figsize=(8,6))\n",
    "sns.heatmap(cm, annot=True, cmap='Blues', fmt='d')\n",
    "plt.xlabel('Predicted Label')\n",
    "plt.ylabel('True Label')\n",
    "plt.show()"
   ]
  },
  {
   "cell_type": "code",
   "execution_count": 95,
   "id": "a30e52b9",
   "metadata": {},
   "outputs": [
    {
     "data": {
      "image/png": "[encoded data removed]",
      "text/plain": [
       "<Figure size 432x288 with 1 Axes>"
      ]
     },
     "metadata": {
      "needs_background": "light"
     },
     "output_type": "display_data"
    }
   ],
   "source": [
    "train_accuracy = model.score(x_train_copy, y_train.values.ravel())\n",
    "test_accuracy = model.score(x_test_copy, y_test.values.ravel())\n",
    "\n",
    "# Eğitim ve test başarılarını grafik olarak çizdirme\n",
    "accuracies = [train_accuracy, test_accuracy]\n",
    "plt.bar([\"Train Accuracy\", \"Test Accuracy\"], accuracies)\n",
    "plt.ylabel(\"Accuracy\")\n",
    "plt.title(\"XGBoost Performance With Gyroscope\")\n",
    "plt.show()"
   ]
  },
  {
   "cell_type": "markdown",
   "id": "518e37cd",
   "metadata": {},
   "source": [
    "###  svm"
   ]
  },
  {
   "cell_type": "code",
   "execution_count": 96,
   "id": "0c0b9a50",
   "metadata": {},
   "outputs": [
    {
     "data": {
      "text/plain": [
       "SVC()"
      ]
     },
     "execution_count": 96,
     "metadata": {},
     "output_type": "execute_result"
    }
   ],
   "source": [
    "svc = SVC()\n",
    "svc.fit(x_train_copy, y_train.values.ravel())\n"
   ]
  },
  {
   "cell_type": "code",
   "execution_count": 36,
   "id": "ac2bca04",
   "metadata": {},
   "outputs": [],
   "source": [
    "y_pred_svc = svc.predict(x_test_copy)"
   ]
  },
  {
   "cell_type": "code",
   "execution_count": 37,
   "id": "1d247f71",
   "metadata": {},
   "outputs": [
    {
     "name": "stdout",
     "output_type": "stream",
     "text": [
      "              precision    recall  f1-score   support\n",
      "\n",
      "           0       0.86      0.89      0.88       496\n",
      "           1       0.94      0.94      0.94       471\n",
      "           2       0.83      0.83      0.83       420\n",
      "           3       0.92      0.88      0.90       491\n",
      "           4       0.90      0.92      0.91       531\n",
      "           5       1.00      1.00      1.00       537\n",
      "\n",
      "    accuracy                           0.91      2946\n",
      "   macro avg       0.91      0.91      0.91      2946\n",
      "weighted avg       0.91      0.91      0.91      2946\n",
      "\n"
     ]
    }
   ],
   "source": [
    "print(classification_report(y_test, y_pred_svc))"
   ]
  },
  {
   "cell_type": "code",
   "execution_count": 38,
   "id": "870f09c6",
   "metadata": {},
   "outputs": [
    {
     "data": {
      "image/png": "[encoded data removed]",
      "text/plain": [
       "<Figure size 576x432 with 2 Axes>"
      ]
     },
     "metadata": {
      "needs_background": "light"
     },
     "output_type": "display_data"
    }
   ],
   "source": [
    "cm = confusion_matrix(y_test, y_pred_svc)\n",
    "plt.figure(figsize=(8,6))\n",
    "sns.heatmap(cm, annot=True, cmap='Blues', fmt='d')\n",
    "plt.xlabel('Predicted Label')\n",
    "plt.ylabel('True Label')\n",
    "plt.show()"
   ]
  },
  {
   "cell_type": "code",
   "execution_count": 97,
   "id": "019725e7",
   "metadata": {},
   "outputs": [
    {
     "data": {
      "image/png": "[encoded data removed]",
      "text/plain": [
       "<Figure size 432x288 with 1 Axes>"
      ]
     },
     "metadata": {
      "needs_background": "light"
     },
     "output_type": "display_data"
    }
   ],
   "source": [
    "train_accuracy = svc.score(x_train_copy, y_train.values.ravel())\n",
    "test_accuracy = svc.score(x_test_copy, y_test.values.ravel())\n",
    "\n",
    "# Eğitim ve test başarılarını grafik olarak çizdirme\n",
    "accuracies = [train_accuracy, test_accuracy]\n",
    "plt.bar([\"Train Accuracy\", \"Test Accuracy\"], accuracies)\n",
    "plt.ylabel(\"Accuracy\")\n",
    "plt.title(\"SVM Performance With Gyroscope\")\n",
    "plt.show()"
   ]
  },
  {
   "cell_type": "markdown",
   "id": "97fc9f53",
   "metadata": {},
   "source": [
    "### yapay sinir aglari"
   ]
  },
  {
   "cell_type": "code",
   "execution_count": 39,
   "id": "89ffb243",
   "metadata": {},
   "outputs": [],
   "source": [
    "import tensorflow as tf\n",
    "from tensorflow.keras.models import Sequential\n",
    "from tensorflow.keras.layers import Dense, Dropout"
   ]
  },
  {
   "cell_type": "code",
   "execution_count": 106,
   "id": "2cc47c88",
   "metadata": {},
   "outputs": [
    {
     "name": "stdout",
     "output_type": "stream",
     "text": [
      "Epoch 1/150\n",
      "230/230 [==============================] - 3s 7ms/step - loss: 1.3018 - accuracy: 0.4420 - val_loss: 1.0349 - val_accuracy: 0.6327\n",
      "Epoch 2/150\n",
      "230/230 [==============================] - 1s 4ms/step - loss: 0.9037 - accuracy: 0.6628 - val_loss: 0.7597 - val_accuracy: 0.7800\n",
      "Epoch 3/150\n",
      "230/230 [==============================] - 1s 5ms/step - loss: 0.6621 - accuracy: 0.7730 - val_loss: 0.5712 - val_accuracy: 0.8276\n",
      "Epoch 4/150\n",
      "230/230 [==============================] - 2s 7ms/step - loss: 0.5115 - accuracy: 0.8320 - val_loss: 0.4643 - val_accuracy: 0.8534\n",
      "Epoch 5/150\n",
      "230/230 [==============================] - 1s 5ms/step - loss: 0.4296 - accuracy: 0.8542 - val_loss: 0.4190 - val_accuracy: 0.8568\n",
      "Epoch 6/150\n",
      "230/230 [==============================] - 1s 4ms/step - loss: 0.3732 - accuracy: 0.8704 - val_loss: 0.4081 - val_accuracy: 0.8415\n",
      "Epoch 7/150\n",
      "230/230 [==============================] - 1s 4ms/step - loss: 0.3380 - accuracy: 0.8819 - val_loss: 0.3610 - val_accuracy: 0.8673\n",
      "Epoch 8/150\n",
      "230/230 [==============================] - 1s 4ms/step - loss: 0.3087 - accuracy: 0.8886 - val_loss: 0.3430 - val_accuracy: 0.8751\n",
      "Epoch 9/150\n",
      "230/230 [==============================] - 1s 5ms/step - loss: 0.2847 - accuracy: 0.8980 - val_loss: 0.3282 - val_accuracy: 0.8785\n",
      "Epoch 10/150\n",
      "230/230 [==============================] - 1s 5ms/step - loss: 0.2693 - accuracy: 0.9027 - val_loss: 0.3611 - val_accuracy: 0.8635\n",
      "Epoch 11/150\n",
      "230/230 [==============================] - 1s 4ms/step - loss: 0.2516 - accuracy: 0.9109 - val_loss: 0.3136 - val_accuracy: 0.8788\n",
      "Epoch 12/150\n",
      "230/230 [==============================] - 1s 4ms/step - loss: 0.2351 - accuracy: 0.9177 - val_loss: 0.3177 - val_accuracy: 0.8768\n",
      "Epoch 13/150\n",
      "230/230 [==============================] - 1s 4ms/step - loss: 0.2266 - accuracy: 0.9185 - val_loss: 0.3047 - val_accuracy: 0.8809\n",
      "Epoch 14/150\n",
      "230/230 [==============================] - 1s 4ms/step - loss: 0.2165 - accuracy: 0.9204 - val_loss: 0.2877 - val_accuracy: 0.8863\n",
      "Epoch 15/150\n",
      "230/230 [==============================] - 1s 5ms/step - loss: 0.2098 - accuracy: 0.9221 - val_loss: 0.2974 - val_accuracy: 0.8829\n",
      "Epoch 16/150\n",
      "230/230 [==============================] - 1s 4ms/step - loss: 0.1966 - accuracy: 0.9279 - val_loss: 0.2977 - val_accuracy: 0.8832\n",
      "Epoch 17/150\n",
      "230/230 [==============================] - 1s 4ms/step - loss: 0.1899 - accuracy: 0.9297 - val_loss: 0.2873 - val_accuracy: 0.8870\n",
      "Epoch 18/150\n",
      "230/230 [==============================] - 1s 4ms/step - loss: 0.1848 - accuracy: 0.9339 - val_loss: 0.2886 - val_accuracy: 0.8876\n",
      "Epoch 19/150\n",
      "230/230 [==============================] - 1s 4ms/step - loss: 0.1803 - accuracy: 0.9377 - val_loss: 0.2715 - val_accuracy: 0.8941\n",
      "Epoch 20/150\n",
      "230/230 [==============================] - 1s 4ms/step - loss: 0.1687 - accuracy: 0.9406 - val_loss: 0.2690 - val_accuracy: 0.8968\n",
      "Epoch 21/150\n",
      "230/230 [==============================] - 1s 4ms/step - loss: 0.1658 - accuracy: 0.9397 - val_loss: 0.2689 - val_accuracy: 0.8944\n",
      "Epoch 22/150\n",
      "230/230 [==============================] - 1s 4ms/step - loss: 0.1605 - accuracy: 0.9431 - val_loss: 0.2818 - val_accuracy: 0.8849\n",
      "Epoch 23/150\n",
      "230/230 [==============================] - 1s 4ms/step - loss: 0.1579 - accuracy: 0.9441 - val_loss: 0.3037 - val_accuracy: 0.8815\n",
      "Epoch 24/150\n",
      "230/230 [==============================] - 2s 7ms/step - loss: 0.1558 - accuracy: 0.9442 - val_loss: 0.2702 - val_accuracy: 0.8948\n",
      "Epoch 25/150\n",
      "230/230 [==============================] - 1s 4ms/step - loss: 0.1482 - accuracy: 0.9456 - val_loss: 0.2716 - val_accuracy: 0.8948\n",
      "Epoch 26/150\n",
      "230/230 [==============================] - 1s 5ms/step - loss: 0.1456 - accuracy: 0.9444 - val_loss: 0.2684 - val_accuracy: 0.8995\n",
      "Epoch 27/150\n",
      "230/230 [==============================] - 1s 4ms/step - loss: 0.1438 - accuracy: 0.9452 - val_loss: 0.2657 - val_accuracy: 0.8999\n",
      "Epoch 28/150\n",
      "230/230 [==============================] - 1s 4ms/step - loss: 0.1393 - accuracy: 0.9497 - val_loss: 0.2604 - val_accuracy: 0.8999\n",
      "Epoch 29/150\n",
      "230/230 [==============================] - 1s 4ms/step - loss: 0.1335 - accuracy: 0.9498 - val_loss: 0.2663 - val_accuracy: 0.8955\n",
      "Epoch 30/150\n",
      "230/230 [==============================] - 1s 4ms/step - loss: 0.1314 - accuracy: 0.9536 - val_loss: 0.2570 - val_accuracy: 0.9019\n",
      "Epoch 31/150\n",
      "230/230 [==============================] - 1s 4ms/step - loss: 0.1286 - accuracy: 0.9542 - val_loss: 0.2546 - val_accuracy: 0.9070\n",
      "Epoch 32/150\n",
      "230/230 [==============================] - 1s 4ms/step - loss: 0.1262 - accuracy: 0.9546 - val_loss: 0.2761 - val_accuracy: 0.8944\n",
      "Epoch 33/150\n",
      "230/230 [==============================] - 1s 5ms/step - loss: 0.1276 - accuracy: 0.9516 - val_loss: 0.2651 - val_accuracy: 0.8995\n",
      "Epoch 34/150\n",
      "230/230 [==============================] - 1s 4ms/step - loss: 0.1230 - accuracy: 0.9566 - val_loss: 0.2713 - val_accuracy: 0.8999\n",
      "Epoch 35/150\n",
      "230/230 [==============================] - 1s 4ms/step - loss: 0.1217 - accuracy: 0.9578 - val_loss: 0.2837 - val_accuracy: 0.8904\n",
      "Epoch 36/150\n",
      "230/230 [==============================] - 1s 4ms/step - loss: 0.1195 - accuracy: 0.9566 - val_loss: 0.2610 - val_accuracy: 0.9043\n",
      "Epoch 37/150\n",
      "230/230 [==============================] - 1s 3ms/step - loss: 0.1190 - accuracy: 0.9547 - val_loss: 0.2691 - val_accuracy: 0.9026\n",
      "Epoch 38/150\n",
      "230/230 [==============================] - 1s 4ms/step - loss: 0.1104 - accuracy: 0.9589 - val_loss: 0.2946 - val_accuracy: 0.8904\n",
      "Epoch 39/150\n",
      "230/230 [==============================] - 1s 4ms/step - loss: 0.1091 - accuracy: 0.9582 - val_loss: 0.2756 - val_accuracy: 0.8951\n",
      "Epoch 40/150\n",
      "230/230 [==============================] - 1s 4ms/step - loss: 0.1089 - accuracy: 0.9601 - val_loss: 0.2650 - val_accuracy: 0.9033\n",
      "Epoch 41/150\n",
      "230/230 [==============================] - 1s 4ms/step - loss: 0.1057 - accuracy: 0.9603 - val_loss: 0.2931 - val_accuracy: 0.8890\n",
      "Epoch 42/150\n",
      "230/230 [==============================] - 1s 5ms/step - loss: 0.1085 - accuracy: 0.9601 - val_loss: 0.2672 - val_accuracy: 0.9036\n",
      "Epoch 43/150\n",
      "230/230 [==============================] - 1s 4ms/step - loss: 0.1039 - accuracy: 0.9622 - val_loss: 0.3004 - val_accuracy: 0.8948\n",
      "Epoch 44/150\n",
      "230/230 [==============================] - 1s 4ms/step - loss: 0.1008 - accuracy: 0.9616 - val_loss: 0.2670 - val_accuracy: 0.9050\n",
      "Epoch 45/150\n",
      "230/230 [==============================] - 1s 4ms/step - loss: 0.0996 - accuracy: 0.9652 - val_loss: 0.2887 - val_accuracy: 0.8961\n",
      "Epoch 46/150\n",
      "230/230 [==============================] - 1s 3ms/step - loss: 0.0980 - accuracy: 0.9611 - val_loss: 0.2664 - val_accuracy: 0.9067\n",
      "Epoch 47/150\n",
      "230/230 [==============================] - 1s 4ms/step - loss: 0.0988 - accuracy: 0.9627 - val_loss: 0.2788 - val_accuracy: 0.9016\n",
      "Epoch 48/150\n",
      "230/230 [==============================] - 1s 4ms/step - loss: 0.0964 - accuracy: 0.9654 - val_loss: 0.2712 - val_accuracy: 0.9053\n",
      "Epoch 49/150\n",
      "230/230 [==============================] - 1s 4ms/step - loss: 0.0911 - accuracy: 0.9668 - val_loss: 0.2641 - val_accuracy: 0.9073\n",
      "Epoch 50/150\n",
      "230/230 [==============================] - 1s 4ms/step - loss: 0.0944 - accuracy: 0.9631 - val_loss: 0.2834 - val_accuracy: 0.8982\n",
      "Epoch 51/150\n",
      "230/230 [==============================] - 1s 4ms/step - loss: 0.0921 - accuracy: 0.9648 - val_loss: 0.2685 - val_accuracy: 0.9100\n",
      "Epoch 52/150\n",
      "230/230 [==============================] - 1s 4ms/step - loss: 0.0916 - accuracy: 0.9664 - val_loss: 0.2692 - val_accuracy: 0.9080\n",
      "Epoch 53/150\n",
      "230/230 [==============================] - 1s 4ms/step - loss: 0.0897 - accuracy: 0.9667 - val_loss: 0.2907 - val_accuracy: 0.9036\n",
      "Epoch 54/150\n",
      "230/230 [==============================] - 1s 3ms/step - loss: 0.0842 - accuracy: 0.9686 - val_loss: 0.2965 - val_accuracy: 0.9077\n",
      "Epoch 55/150\n",
      "230/230 [==============================] - 1s 3ms/step - loss: 0.0885 - accuracy: 0.9678 - val_loss: 0.2693 - val_accuracy: 0.9077\n",
      "Epoch 56/150\n",
      "230/230 [==============================] - 1s 3ms/step - loss: 0.0868 - accuracy: 0.9669 - val_loss: 0.3089 - val_accuracy: 0.8948\n",
      "Epoch 57/150\n",
      "230/230 [==============================] - 1s 3ms/step - loss: 0.0865 - accuracy: 0.9693 - val_loss: 0.3112 - val_accuracy: 0.8951\n"
     ]
    },
    {
     "name": "stdout",
     "output_type": "stream",
     "text": [
      "Epoch 58/150\n",
      "230/230 [==============================] - 1s 4ms/step - loss: 0.0867 - accuracy: 0.9669 - val_loss: 0.3017 - val_accuracy: 0.8934\n",
      "Epoch 59/150\n",
      "230/230 [==============================] - 1s 4ms/step - loss: 0.0824 - accuracy: 0.9699 - val_loss: 0.2875 - val_accuracy: 0.9019\n",
      "Epoch 60/150\n",
      "230/230 [==============================] - 1s 3ms/step - loss: 0.0816 - accuracy: 0.9679 - val_loss: 0.3324 - val_accuracy: 0.8893\n",
      "Epoch 61/150\n",
      "230/230 [==============================] - 1s 3ms/step - loss: 0.0797 - accuracy: 0.9703 - val_loss: 0.2752 - val_accuracy: 0.9033\n",
      "Epoch 62/150\n",
      "230/230 [==============================] - 1s 4ms/step - loss: 0.0808 - accuracy: 0.9709 - val_loss: 0.2692 - val_accuracy: 0.9114\n",
      "Epoch 63/150\n",
      "230/230 [==============================] - 1s 3ms/step - loss: 0.0765 - accuracy: 0.9710 - val_loss: 0.2904 - val_accuracy: 0.8995\n",
      "Epoch 64/150\n",
      "230/230 [==============================] - 1s 3ms/step - loss: 0.0783 - accuracy: 0.9698 - val_loss: 0.3016 - val_accuracy: 0.8982\n",
      "Epoch 65/150\n",
      "230/230 [==============================] - 1s 3ms/step - loss: 0.0776 - accuracy: 0.9712 - val_loss: 0.2966 - val_accuracy: 0.9033\n",
      "Epoch 66/150\n",
      "230/230 [==============================] - 1s 4ms/step - loss: 0.0781 - accuracy: 0.9709 - val_loss: 0.2972 - val_accuracy: 0.8988\n",
      "Epoch 67/150\n",
      "230/230 [==============================] - 1s 4ms/step - loss: 0.0742 - accuracy: 0.9731 - val_loss: 0.2980 - val_accuracy: 0.9043\n",
      "Epoch 68/150\n",
      "230/230 [==============================] - 1s 4ms/step - loss: 0.0712 - accuracy: 0.9739 - val_loss: 0.2979 - val_accuracy: 0.9039\n",
      "Epoch 69/150\n",
      "230/230 [==============================] - 1s 4ms/step - loss: 0.0750 - accuracy: 0.9713 - val_loss: 0.2980 - val_accuracy: 0.9012\n",
      "Epoch 70/150\n",
      "230/230 [==============================] - 1s 4ms/step - loss: 0.0740 - accuracy: 0.9739 - val_loss: 0.2949 - val_accuracy: 0.9043\n",
      "Epoch 71/150\n",
      "230/230 [==============================] - 1s 3ms/step - loss: 0.0729 - accuracy: 0.9731 - val_loss: 0.2903 - val_accuracy: 0.9056\n",
      "Epoch 72/150\n",
      "230/230 [==============================] - 1s 4ms/step - loss: 0.0695 - accuracy: 0.9747 - val_loss: 0.3057 - val_accuracy: 0.9067\n",
      "Epoch 73/150\n",
      "230/230 [==============================] - 1s 4ms/step - loss: 0.0659 - accuracy: 0.9746 - val_loss: 0.3023 - val_accuracy: 0.9009\n",
      "Epoch 74/150\n",
      "230/230 [==============================] - 1s 4ms/step - loss: 0.0678 - accuracy: 0.9752 - val_loss: 0.3048 - val_accuracy: 0.9043\n",
      "Epoch 75/150\n",
      "230/230 [==============================] - 1s 3ms/step - loss: 0.0677 - accuracy: 0.9758 - val_loss: 0.2934 - val_accuracy: 0.9077\n",
      "Epoch 76/150\n",
      "230/230 [==============================] - 1s 4ms/step - loss: 0.0659 - accuracy: 0.9756 - val_loss: 0.2945 - val_accuracy: 0.9087\n",
      "Epoch 77/150\n",
      "230/230 [==============================] - 1s 3ms/step - loss: 0.0644 - accuracy: 0.9759 - val_loss: 0.2925 - val_accuracy: 0.9094\n",
      "Epoch 78/150\n",
      "230/230 [==============================] - 1s 4ms/step - loss: 0.0668 - accuracy: 0.9748 - val_loss: 0.3032 - val_accuracy: 0.9036\n",
      "Epoch 79/150\n",
      "230/230 [==============================] - 1s 4ms/step - loss: 0.0602 - accuracy: 0.9773 - val_loss: 0.2985 - val_accuracy: 0.9056\n",
      "Epoch 80/150\n",
      "230/230 [==============================] - 1s 4ms/step - loss: 0.0646 - accuracy: 0.9763 - val_loss: 0.3189 - val_accuracy: 0.9022\n",
      "Epoch 81/150\n",
      "230/230 [==============================] - 1s 3ms/step - loss: 0.0655 - accuracy: 0.9755 - val_loss: 0.3515 - val_accuracy: 0.8904\n",
      "Epoch 82/150\n",
      "230/230 [==============================] - 1s 4ms/step - loss: 0.0646 - accuracy: 0.9751 - val_loss: 0.2998 - val_accuracy: 0.9087\n",
      "Epoch 83/150\n",
      "230/230 [==============================] - 1s 3ms/step - loss: 0.0571 - accuracy: 0.9786 - val_loss: 0.3231 - val_accuracy: 0.9019\n",
      "Epoch 84/150\n",
      "230/230 [==============================] - 1s 4ms/step - loss: 0.0623 - accuracy: 0.9767 - val_loss: 0.3165 - val_accuracy: 0.9056\n",
      "Epoch 85/150\n",
      "230/230 [==============================] - 1s 3ms/step - loss: 0.0607 - accuracy: 0.9785 - val_loss: 0.3182 - val_accuracy: 0.9022\n",
      "Epoch 86/150\n",
      "230/230 [==============================] - 1s 4ms/step - loss: 0.0596 - accuracy: 0.9777 - val_loss: 0.3189 - val_accuracy: 0.9039\n",
      "Epoch 87/150\n",
      "230/230 [==============================] - 1s 3ms/step - loss: 0.0585 - accuracy: 0.9776 - val_loss: 0.2984 - val_accuracy: 0.9117\n",
      "Epoch 88/150\n",
      "230/230 [==============================] - 1s 4ms/step - loss: 0.0576 - accuracy: 0.9776 - val_loss: 0.3382 - val_accuracy: 0.8982\n",
      "Epoch 89/150\n",
      "230/230 [==============================] - 1s 3ms/step - loss: 0.0588 - accuracy: 0.9777 - val_loss: 0.2995 - val_accuracy: 0.9100\n",
      "Epoch 90/150\n",
      "230/230 [==============================] - 1s 4ms/step - loss: 0.0563 - accuracy: 0.9789 - val_loss: 0.3195 - val_accuracy: 0.9050\n",
      "Epoch 91/150\n",
      "230/230 [==============================] - 1s 3ms/step - loss: 0.0559 - accuracy: 0.9788 - val_loss: 0.3327 - val_accuracy: 0.9005\n",
      "Epoch 92/150\n",
      "230/230 [==============================] - 1s 4ms/step - loss: 0.0541 - accuracy: 0.9796 - val_loss: 0.3006 - val_accuracy: 0.9094\n",
      "Epoch 93/150\n",
      "230/230 [==============================] - 1s 4ms/step - loss: 0.0574 - accuracy: 0.9799 - val_loss: 0.3238 - val_accuracy: 0.8995\n",
      "Epoch 94/150\n",
      "230/230 [==============================] - 1s 3ms/step - loss: 0.0575 - accuracy: 0.9789 - val_loss: 0.3519 - val_accuracy: 0.8978\n",
      "Epoch 95/150\n",
      "230/230 [==============================] - 1s 4ms/step - loss: 0.0560 - accuracy: 0.9784 - val_loss: 0.3373 - val_accuracy: 0.9026\n",
      "Epoch 96/150\n",
      "230/230 [==============================] - 1s 4ms/step - loss: 0.0567 - accuracy: 0.9782 - val_loss: 0.3164 - val_accuracy: 0.9070\n",
      "Epoch 97/150\n",
      "230/230 [==============================] - 1s 3ms/step - loss: 0.0563 - accuracy: 0.9788 - val_loss: 0.3104 - val_accuracy: 0.9060\n",
      "Epoch 98/150\n",
      "230/230 [==============================] - 1s 4ms/step - loss: 0.0542 - accuracy: 0.9786 - val_loss: 0.3501 - val_accuracy: 0.9002\n",
      "Epoch 99/150\n",
      "230/230 [==============================] - 1s 4ms/step - loss: 0.0520 - accuracy: 0.9792 - val_loss: 0.3411 - val_accuracy: 0.9029\n",
      "Epoch 100/150\n",
      "230/230 [==============================] - 1s 3ms/step - loss: 0.0514 - accuracy: 0.9829 - val_loss: 0.3105 - val_accuracy: 0.9080\n",
      "Epoch 101/150\n",
      "230/230 [==============================] - 1s 3ms/step - loss: 0.0474 - accuracy: 0.9812 - val_loss: 0.3247 - val_accuracy: 0.9063\n",
      "Epoch 102/150\n",
      "230/230 [==============================] - 1s 4ms/step - loss: 0.0486 - accuracy: 0.9830 - val_loss: 0.3049 - val_accuracy: 0.9107\n",
      "Epoch 103/150\n",
      "230/230 [==============================] - 1s 4ms/step - loss: 0.0513 - accuracy: 0.9820 - val_loss: 0.3466 - val_accuracy: 0.9012\n",
      "Epoch 104/150\n",
      "230/230 [==============================] - 1s 4ms/step - loss: 0.0511 - accuracy: 0.9814 - val_loss: 0.3544 - val_accuracy: 0.9026\n",
      "Epoch 105/150\n",
      "230/230 [==============================] - 1s 5ms/step - loss: 0.0457 - accuracy: 0.9827 - val_loss: 0.3307 - val_accuracy: 0.9060\n",
      "Epoch 106/150\n",
      "230/230 [==============================] - 1s 4ms/step - loss: 0.0508 - accuracy: 0.9793 - val_loss: 0.3184 - val_accuracy: 0.9084\n",
      "Epoch 107/150\n",
      "230/230 [==============================] - 1s 4ms/step - loss: 0.0489 - accuracy: 0.9805 - val_loss: 0.3898 - val_accuracy: 0.8890\n",
      "Epoch 108/150\n",
      "230/230 [==============================] - 1s 4ms/step - loss: 0.0499 - accuracy: 0.9811 - val_loss: 0.3398 - val_accuracy: 0.9100\n",
      "Epoch 109/150\n",
      "230/230 [==============================] - 1s 5ms/step - loss: 0.0503 - accuracy: 0.9811 - val_loss: 0.3139 - val_accuracy: 0.9111\n",
      "Epoch 110/150\n",
      "230/230 [==============================] - 1s 4ms/step - loss: 0.0527 - accuracy: 0.9796 - val_loss: 0.3363 - val_accuracy: 0.9056\n",
      "Epoch 111/150\n",
      "230/230 [==============================] - 1s 4ms/step - loss: 0.0481 - accuracy: 0.9819 - val_loss: 0.3466 - val_accuracy: 0.9046\n",
      "Epoch 112/150\n",
      "230/230 [==============================] - 1s 4ms/step - loss: 0.0440 - accuracy: 0.9839 - val_loss: 0.3102 - val_accuracy: 0.9090\n",
      "Epoch 113/150\n",
      "230/230 [==============================] - 1s 4ms/step - loss: 0.0476 - accuracy: 0.9827 - val_loss: 0.3385 - val_accuracy: 0.9084\n",
      "Epoch 114/150\n",
      "230/230 [==============================] - 1s 4ms/step - loss: 0.0501 - accuracy: 0.9815 - val_loss: 0.3368 - val_accuracy: 0.9073\n"
     ]
    },
    {
     "name": "stdout",
     "output_type": "stream",
     "text": [
      "Epoch 115/150\n",
      "230/230 [==============================] - 1s 4ms/step - loss: 0.0441 - accuracy: 0.9849 - val_loss: 0.3358 - val_accuracy: 0.9111\n",
      "Epoch 116/150\n",
      "230/230 [==============================] - 1s 5ms/step - loss: 0.0461 - accuracy: 0.9819 - val_loss: 0.3382 - val_accuracy: 0.9084\n",
      "Epoch 117/150\n",
      "230/230 [==============================] - 1s 4ms/step - loss: 0.0416 - accuracy: 0.9849 - val_loss: 0.3533 - val_accuracy: 0.9039\n",
      "Epoch 118/150\n",
      "230/230 [==============================] - 1s 4ms/step - loss: 0.0444 - accuracy: 0.9827 - val_loss: 0.3707 - val_accuracy: 0.9016\n",
      "Epoch 119/150\n",
      "230/230 [==============================] - 1s 4ms/step - loss: 0.0431 - accuracy: 0.9838 - val_loss: 0.3460 - val_accuracy: 0.9084\n",
      "Epoch 120/150\n",
      "230/230 [==============================] - 1s 4ms/step - loss: 0.0461 - accuracy: 0.9839 - val_loss: 0.3575 - val_accuracy: 0.9036\n",
      "Epoch 121/150\n",
      "230/230 [==============================] - 1s 4ms/step - loss: 0.0441 - accuracy: 0.9834 - val_loss: 0.3634 - val_accuracy: 0.9012\n",
      "Epoch 122/150\n",
      "230/230 [==============================] - 1s 3ms/step - loss: 0.0434 - accuracy: 0.9842 - val_loss: 0.3536 - val_accuracy: 0.9056\n",
      "Epoch 123/150\n",
      "230/230 [==============================] - 1s 4ms/step - loss: 0.0386 - accuracy: 0.9850 - val_loss: 0.3394 - val_accuracy: 0.9107\n",
      "Epoch 124/150\n",
      "230/230 [==============================] - 1s 4ms/step - loss: 0.0452 - accuracy: 0.9833 - val_loss: 0.3955 - val_accuracy: 0.8968\n",
      "Epoch 125/150\n",
      "230/230 [==============================] - 1s 3ms/step - loss: 0.0392 - accuracy: 0.9850 - val_loss: 0.3542 - val_accuracy: 0.9067\n",
      "Epoch 126/150\n",
      "230/230 [==============================] - 1s 4ms/step - loss: 0.0379 - accuracy: 0.9852 - val_loss: 0.3766 - val_accuracy: 0.9019\n",
      "Epoch 127/150\n",
      "230/230 [==============================] - 1s 4ms/step - loss: 0.0409 - accuracy: 0.9853 - val_loss: 0.3582 - val_accuracy: 0.9056\n",
      "Epoch 128/150\n",
      "230/230 [==============================] - 1s 4ms/step - loss: 0.0425 - accuracy: 0.9845 - val_loss: 0.3350 - val_accuracy: 0.9104\n",
      "Epoch 129/150\n",
      "230/230 [==============================] - 1s 3ms/step - loss: 0.0425 - accuracy: 0.9826 - val_loss: 0.3261 - val_accuracy: 0.9124\n",
      "Epoch 130/150\n",
      "230/230 [==============================] - 1s 4ms/step - loss: 0.0377 - accuracy: 0.9871 - val_loss: 0.3520 - val_accuracy: 0.9077\n",
      "Epoch 131/150\n",
      "230/230 [==============================] - 1s 3ms/step - loss: 0.0407 - accuracy: 0.9844 - val_loss: 0.3536 - val_accuracy: 0.9070\n",
      "Epoch 132/150\n",
      "230/230 [==============================] - 1s 3ms/step - loss: 0.0385 - accuracy: 0.9854 - val_loss: 0.3648 - val_accuracy: 0.9107\n",
      "Epoch 133/150\n",
      "230/230 [==============================] - 1s 3ms/step - loss: 0.0381 - accuracy: 0.9849 - val_loss: 0.3900 - val_accuracy: 0.9019\n",
      "Epoch 134/150\n",
      "230/230 [==============================] - 1s 3ms/step - loss: 0.0399 - accuracy: 0.9845 - val_loss: 0.3678 - val_accuracy: 0.9005\n",
      "Epoch 135/150\n",
      "230/230 [==============================] - 1s 4ms/step - loss: 0.0374 - accuracy: 0.9863 - val_loss: 0.3699 - val_accuracy: 0.9063\n",
      "Epoch 136/150\n",
      "230/230 [==============================] - 1s 4ms/step - loss: 0.0401 - accuracy: 0.9863 - val_loss: 0.3788 - val_accuracy: 0.9002\n",
      "Epoch 137/150\n",
      "230/230 [==============================] - 1s 3ms/step - loss: 0.0346 - accuracy: 0.9860 - val_loss: 0.3874 - val_accuracy: 0.9022\n",
      "Epoch 138/150\n",
      "230/230 [==============================] - 1s 3ms/step - loss: 0.0372 - accuracy: 0.9865 - val_loss: 0.3769 - val_accuracy: 0.9056\n",
      "Epoch 139/150\n",
      "230/230 [==============================] - 1s 4ms/step - loss: 0.0361 - accuracy: 0.9854 - val_loss: 0.3680 - val_accuracy: 0.9104\n",
      "Epoch 140/150\n",
      "230/230 [==============================] - 1s 4ms/step - loss: 0.0390 - accuracy: 0.9848 - val_loss: 0.3410 - val_accuracy: 0.9138\n",
      "Epoch 141/150\n",
      "230/230 [==============================] - 1s 4ms/step - loss: 0.0371 - accuracy: 0.9849 - val_loss: 0.3730 - val_accuracy: 0.9080\n",
      "Epoch 142/150\n",
      "230/230 [==============================] - 1s 3ms/step - loss: 0.0399 - accuracy: 0.9829 - val_loss: 0.3922 - val_accuracy: 0.9063\n",
      "Epoch 143/150\n",
      "230/230 [==============================] - 1s 4ms/step - loss: 0.0358 - accuracy: 0.9876 - val_loss: 0.4072 - val_accuracy: 0.9012\n",
      "Epoch 144/150\n",
      "230/230 [==============================] - 1s 4ms/step - loss: 0.0386 - accuracy: 0.9845 - val_loss: 0.3794 - val_accuracy: 0.9029\n",
      "Epoch 145/150\n",
      "230/230 [==============================] - 1s 4ms/step - loss: 0.0369 - accuracy: 0.9861 - val_loss: 0.3912 - val_accuracy: 0.9043\n",
      "Epoch 146/150\n",
      "230/230 [==============================] - 1s 4ms/step - loss: 0.0395 - accuracy: 0.9848 - val_loss: 0.4026 - val_accuracy: 0.9009\n",
      "Epoch 147/150\n",
      "230/230 [==============================] - 1s 3ms/step - loss: 0.0349 - accuracy: 0.9871 - val_loss: 0.3848 - val_accuracy: 0.8999\n",
      "Epoch 148/150\n",
      "230/230 [==============================] - 1s 4ms/step - loss: 0.0362 - accuracy: 0.9867 - val_loss: 0.3496 - val_accuracy: 0.9121\n",
      "Epoch 149/150\n",
      "230/230 [==============================] - 1s 6ms/step - loss: 0.0350 - accuracy: 0.9876 - val_loss: 0.3711 - val_accuracy: 0.9063\n",
      "Epoch 150/150\n",
      "230/230 [==============================] - 1s 6ms/step - loss: 0.0361 - accuracy: 0.9868 - val_loss: 0.3745 - val_accuracy: 0.9104\n"
     ]
    }
   ],
   "source": [
    "model = Sequential()\n",
    "model.add(Dense(units=64,kernel_initializer='normal',activation='sigmoid',input_dim=x_train_copy.shape[1]))\n",
    "model.add(Dropout(0.2))\n",
    "model.add(Dense(units=6,kernel_initializer='normal',activation='softmax'))\n",
    "model.compile(optimizer='adam',loss='sparse_categorical_crossentropy',metrics=['accuracy'])\n",
    "history = model.fit(x_train_copy, y_train, batch_size = 32, epochs= 150,validation_data = (x_test_copy,y_test))"
   ]
  },
  {
   "cell_type": "code",
   "execution_count": 107,
   "id": "6a55b4cf",
   "metadata": {},
   "outputs": [
    {
     "name": "stdout",
     "output_type": "stream",
     "text": [
      "93/93 [==============================] - 0s 3ms/step - loss: 0.3745 - accuracy: 0.9104\n"
     ]
    }
   ],
   "source": [
    "_, accuracy = model.evaluate(x_test_copy,y_test)\n"
   ]
  },
  {
   "cell_type": "code",
   "execution_count": 109,
   "id": "699c8d95",
   "metadata": {},
   "outputs": [
    {
     "data": {
      "image/png": "[encoded data removed]",
      "text/plain": [
       "<Figure size 432x288 with 1 Axes>"
      ]
     },
     "metadata": {
      "needs_background": "light"
     },
     "output_type": "display_data"
    }
   ],
   "source": [
    "import matplotlib.pyplot as plt\n",
    "\n",
    "plt.plot(history.history['accuracy'], label='Training Accuracy')\n",
    "plt.plot(history.history['val_accuracy'], label='Test Accuracy')\n",
    "plt.xlabel('Epochs')\n",
    "plt.ylabel('Accuracy')\n",
    "plt.legend()\n",
    "plt.show()"
   ]
  },
  {
   "cell_type": "code",
   "execution_count": 108,
   "id": "bdec6034",
   "metadata": {},
   "outputs": [
    {
     "name": "stdout",
     "output_type": "stream",
     "text": [
      "93/93 [==============================] - 0s 2ms/step\n",
      "[[414   4  78   0   0   0]\n",
      " [ 10 454   7   0   0   0]\n",
      " [ 52  17 351   0   0   0]\n",
      " [  0   2   0 422  67   0]\n",
      " [  2   0   1  16 511   1]\n",
      " [  0   0   0   0   7 530]]\n"
     ]
    }
   ],
   "source": [
    "# Test verileri üzerinde tahminlerin hesaplanması\n",
    "y_pred = model.predict(x_test_copy)\n",
    "y_pred_classes = np.argmax(y_pred, axis=1)\n",
    "\n",
    "# Confusion matrix'in hesaplanması\n",
    "conf_matrix = confusion_matrix(y_test, y_pred_classes)\n",
    "print(conf_matrix)"
   ]
  },
  {
   "cell_type": "code",
   "execution_count": 110,
   "id": "a6a27d5f",
   "metadata": {},
   "outputs": [
    {
     "data": {
      "image/png": "[encoded data removed]",
      "text/plain": [
       "<Figure size 576x432 with 2 Axes>"
      ]
     },
     "metadata": {
      "needs_background": "light"
     },
     "output_type": "display_data"
    }
   ],
   "source": [
    "cm = confusion_matrix(y_test, y_pred_classes)\n",
    "plt.figure(figsize=(8, 6))\n",
    "sns.heatmap(cm, annot=True, cmap='Blues', fmt='d')\n",
    "plt.xlabel('Predicted Label')\n",
    "plt.ylabel('True Label')\n",
    "plt.show()"
   ]
  },
  {
   "cell_type": "code",
   "execution_count": 111,
   "id": "0e1efb47",
   "metadata": {},
   "outputs": [
    {
     "name": "stdout",
     "output_type": "stream",
     "text": [
      "              precision    recall  f1-score   support\n",
      "\n",
      "           0       0.87      0.83      0.85       496\n",
      "           1       0.95      0.96      0.96       471\n",
      "           2       0.80      0.84      0.82       420\n",
      "           3       0.96      0.86      0.91       491\n",
      "           4       0.87      0.96      0.92       531\n",
      "           5       1.00      0.99      0.99       537\n",
      "\n",
      "    accuracy                           0.91      2946\n",
      "   macro avg       0.91      0.91      0.91      2946\n",
      "weighted avg       0.91      0.91      0.91      2946\n",
      "\n"
     ]
    }
   ],
   "source": [
    "class_report = classification_report(y_test, y_pred_classes)\n",
    "print(class_report)"
   ]
  },
  {
   "cell_type": "markdown",
   "id": "2771d268",
   "metadata": {},
   "source": [
    "# accelerometer"
   ]
  },
  {
   "cell_type": "code",
   "execution_count": 44,
   "id": "c214cc25",
   "metadata": {},
   "outputs": [],
   "source": [
    "x_train_copy_2 = x_train.copy()\n",
    "x_test_copy_2 = x_test.copy()"
   ]
  },
  {
   "cell_type": "code",
   "execution_count": 45,
   "id": "26facad3",
   "metadata": {},
   "outputs": [],
   "source": [
    "for var_name in x_train_copy_2.columns:\n",
    "    if 'Gyro' in var_name:\n",
    "        del x_train_copy_2[var_name]"
   ]
  },
  {
   "cell_type": "code",
   "execution_count": 46,
   "id": "fbc73c07",
   "metadata": {},
   "outputs": [],
   "source": [
    "for var_name in x_test_copy_2.columns:\n",
    "    if 'Gyro' in var_name:\n",
    "        del x_test_copy_2[var_name]"
   ]
  },
  {
   "cell_type": "markdown",
   "id": "d8de0812",
   "metadata": {},
   "source": [
    "###  KNN"
   ]
  },
  {
   "cell_type": "code",
   "execution_count": 91,
   "id": "1e19ba2f",
   "metadata": {},
   "outputs": [
    {
     "data": {
      "text/plain": [
       "KNeighborsClassifier()"
      ]
     },
     "execution_count": 91,
     "metadata": {},
     "output_type": "execute_result"
    }
   ],
   "source": [
    "knn = KNeighborsClassifier()\n",
    "knn.fit(x_train_copy_2, y_train.values.ravel())"
   ]
  },
  {
   "cell_type": "code",
   "execution_count": 76,
   "id": "370226db",
   "metadata": {},
   "outputs": [],
   "source": [
    "y_pred_knn_acc = knn.predict(x_test_copy_2)\n"
   ]
  },
  {
   "cell_type": "code",
   "execution_count": 50,
   "id": "27c1d114",
   "metadata": {},
   "outputs": [
    {
     "name": "stdout",
     "output_type": "stream",
     "text": [
      "              precision    recall  f1-score   support\n",
      "\n",
      "           0       0.83      0.97      0.89       496\n",
      "           1       0.86      0.84      0.85       471\n",
      "           2       0.95      0.79      0.86       420\n",
      "           3       0.83      0.66      0.73       491\n",
      "           4       0.74      0.88      0.80       531\n",
      "           5       1.00      0.99      1.00       537\n",
      "\n",
      "    accuracy                           0.86      2946\n",
      "   macro avg       0.87      0.86      0.86      2946\n",
      "weighted avg       0.87      0.86      0.86      2946\n",
      "\n"
     ]
    }
   ],
   "source": [
    "print(classification_report(y_test, y_pred_knn_acc))"
   ]
  },
  {
   "cell_type": "code",
   "execution_count": 51,
   "id": "9784b79b",
   "metadata": {},
   "outputs": [
    {
     "data": {
      "image/png": "[encoded data removed]",
      "text/plain": [
       "<Figure size 576x432 with 2 Axes>"
      ]
     },
     "metadata": {
      "needs_background": "light"
     },
     "output_type": "display_data"
    }
   ],
   "source": [
    "cm = confusion_matrix(y_test, y_pred_knn_acc)\n",
    "plt.figure(figsize=(8,6))\n",
    "sns.heatmap(cm, annot=True, cmap='Blues', fmt='d')\n",
    "plt.xlabel('Predicted Label')\n",
    "plt.ylabel('True Label')\n",
    "plt.show()"
   ]
  },
  {
   "cell_type": "code",
   "execution_count": 92,
   "id": "98f9bce8",
   "metadata": {},
   "outputs": [
    {
     "data": {
      "image/png": "[encoded data removed]",
      "text/plain": [
       "<Figure size 432x288 with 1 Axes>"
      ]
     },
     "metadata": {
      "needs_background": "light"
     },
     "output_type": "display_data"
    }
   ],
   "source": [
    "train_accuracy = knn.score(x_train_copy_2, y_train.values.ravel())\n",
    "test_accuracy = knn.score(x_test_copy_2, y_test.values.ravel())\n",
    "\n",
    "# Eğitim ve test başarılarını grafik olarak çizdirme\n",
    "accuracies = [train_accuracy, test_accuracy]\n",
    "plt.bar([\"Train Accuracy\", \"Test Accuracy\"], accuracies)\n",
    "plt.ylabel(\"Accuracy\")\n",
    "plt.title(\"KNN Performance With Accelerometer\")\n",
    "plt.show()"
   ]
  },
  {
   "cell_type": "markdown",
   "id": "99c143ab",
   "metadata": {},
   "source": [
    "### random forest"
   ]
  },
  {
   "cell_type": "code",
   "execution_count": 79,
   "id": "904428e8",
   "metadata": {},
   "outputs": [
    {
     "data": {
      "text/plain": [
       "RandomForestClassifier()"
      ]
     },
     "execution_count": 79,
     "metadata": {},
     "output_type": "execute_result"
    }
   ],
   "source": [
    "rfc2 = RandomForestClassifier()\n",
    "rfc2.fit(x_train_copy_2, y_train.values.ravel())"
   ]
  },
  {
   "cell_type": "code",
   "execution_count": 80,
   "id": "6fc901cc",
   "metadata": {},
   "outputs": [],
   "source": [
    "y_pred_rf2 = rfc2.predict(x_test_copy_2)"
   ]
  },
  {
   "cell_type": "code",
   "execution_count": 56,
   "id": "8ea7b0f7",
   "metadata": {},
   "outputs": [
    {
     "name": "stdout",
     "output_type": "stream",
     "text": [
      "              precision    recall  f1-score   support\n",
      "\n",
      "           0       0.85      0.96      0.90       496\n",
      "           1       0.88      0.86      0.87       471\n",
      "           2       0.95      0.84      0.89       420\n",
      "           3       0.81      0.81      0.81       491\n",
      "           4       0.82      0.83      0.83       531\n",
      "           5       1.00      1.00      1.00       537\n",
      "\n",
      "    accuracy                           0.88      2946\n",
      "   macro avg       0.89      0.88      0.88      2946\n",
      "weighted avg       0.89      0.88      0.88      2946\n",
      "\n"
     ]
    }
   ],
   "source": [
    "print(classification_report(y_test, y_pred_rf2))"
   ]
  },
  {
   "cell_type": "code",
   "execution_count": 57,
   "id": "a7d7225b",
   "metadata": {},
   "outputs": [
    {
     "data": {
      "image/png": "[encoded data removed]",
      "text/plain": [
       "<Figure size 576x432 with 2 Axes>"
      ]
     },
     "metadata": {
      "needs_background": "light"
     },
     "output_type": "display_data"
    }
   ],
   "source": [
    "cm = confusion_matrix(y_test, y_pred_rf2)\n",
    "plt.figure(figsize=(8,6))\n",
    "sns.heatmap(cm, annot=True, cmap='Blues', fmt='d')\n",
    "plt.xlabel('Predicted Label')\n",
    "plt.ylabel('True Label')\n",
    "plt.show()"
   ]
  },
  {
   "cell_type": "code",
   "execution_count": 94,
   "id": "200a0533",
   "metadata": {},
   "outputs": [
    {
     "data": {
      "image/png": "[encoded data removed]",
      "text/plain": [
       "<Figure size 432x288 with 1 Axes>"
      ]
     },
     "metadata": {
      "needs_background": "light"
     },
     "output_type": "display_data"
    }
   ],
   "source": [
    "train_accuracy = rfc2.score(x_train_copy_2, y_train.values.ravel())\n",
    "test_accuracy = rfc2.score(x_test_copy_2, y_test.values.ravel())\n",
    "\n",
    "# Eğitim ve test başarılarını grafik olarak çizdirme\n",
    "accuracies = [train_accuracy, test_accuracy]\n",
    "plt.bar([\"Train Accuracy\", \"Test Accuracy\"], accuracies)\n",
    "plt.ylabel(\"Accuracy\")\n",
    "plt.title(\"Random Forest Performance With Accelerometer\")\n",
    "plt.show()"
   ]
  },
  {
   "cell_type": "markdown",
   "id": "fb001538",
   "metadata": {},
   "source": [
    "### xgboost"
   ]
  },
  {
   "cell_type": "code",
   "execution_count": 58,
   "id": "2d7ee508",
   "metadata": {},
   "outputs": [
    {
     "data": {
      "text/plain": [
       "XGBClassifier(base_score=None, booster=None, callbacks=None,\n",
       "              colsample_bylevel=None, colsample_bynode=None,\n",
       "              colsample_bytree=None, early_stopping_rounds=None,\n",
       "              enable_categorical=False, eval_metric=None, feature_types=None,\n",
       "              gamma=None, gpu_id=None, grow_policy=None, importance_type=None,\n",
       "              interaction_constraints=None, learning_rate=None, max_bin=None,\n",
       "              max_cat_threshold=None, max_cat_to_onehot=None,\n",
       "              max_delta_step=None, max_depth=None, max_leaves=None,\n",
       "              min_child_weight=None, missing=nan, monotone_constraints=None,\n",
       "              n_estimators=100, n_jobs=None, num_parallel_tree=None,\n",
       "              objective='multi:softprob', predictor=None, ...)"
      ]
     },
     "execution_count": 58,
     "metadata": {},
     "output_type": "execute_result"
    }
   ],
   "source": [
    "model2 = XGBClassifier()\n",
    "model2.fit(x_train_copy_2, y_train.values.ravel())"
   ]
  },
  {
   "cell_type": "code",
   "execution_count": 59,
   "id": "5020f443",
   "metadata": {},
   "outputs": [],
   "source": [
    "y_pred_xgb2 = model2.predict(x_test_copy_2)"
   ]
  },
  {
   "cell_type": "code",
   "execution_count": 60,
   "id": "11fe4832",
   "metadata": {},
   "outputs": [
    {
     "name": "stdout",
     "output_type": "stream",
     "text": [
      "              precision    recall  f1-score   support\n",
      "\n",
      "           0       0.88      0.95      0.91       496\n",
      "           1       0.87      0.89      0.88       471\n",
      "           2       0.98      0.89      0.93       420\n",
      "           3       0.82      0.80      0.81       491\n",
      "           4       0.82      0.83      0.83       531\n",
      "           5       1.00      1.00      1.00       537\n",
      "\n",
      "    accuracy                           0.89      2946\n",
      "   macro avg       0.90      0.89      0.89      2946\n",
      "weighted avg       0.89      0.89      0.89      2946\n",
      "\n"
     ]
    }
   ],
   "source": [
    "print(classification_report(y_test, y_pred_xgb2))"
   ]
  },
  {
   "cell_type": "code",
   "execution_count": 61,
   "id": "4f78cc3d",
   "metadata": {},
   "outputs": [
    {
     "data": {
      "image/png": "[encoded data removed]",
      "text/plain": [
       "<Figure size 576x432 with 2 Axes>"
      ]
     },
     "metadata": {
      "needs_background": "light"
     },
     "output_type": "display_data"
    }
   ],
   "source": [
    "cm = confusion_matrix(y_test, y_pred_xgb2)\n",
    "plt.figure(figsize=(8,6))\n",
    "sns.heatmap(cm, annot=True, cmap='Blues', fmt='d')\n",
    "plt.xlabel('Predicted Label')\n",
    "plt.ylabel('True Label')\n",
    "plt.show()"
   ]
  },
  {
   "cell_type": "code",
   "execution_count": 88,
   "id": "ef70ed72",
   "metadata": {},
   "outputs": [
    {
     "data": {
      "image/png": "[encoded data removed]",
      "text/plain": [
       "<Figure size 432x288 with 1 Axes>"
      ]
     },
     "metadata": {
      "needs_background": "light"
     },
     "output_type": "display_data"
    }
   ],
   "source": [
    "train_accuracy = model2.score(x_train_copy_2, y_train.values.ravel())\n",
    "test_accuracy = model2.score(x_test_copy_2, y_test.values.ravel())\n",
    "\n",
    "# Eğitim ve test başarılarını grafik olarak çizdirme\n",
    "accuracies = [train_accuracy, test_accuracy]\n",
    "plt.bar([\"Train Accuracy\", \"Test Accuracy\"], accuracies)\n",
    "plt.ylabel(\"Accuracy\")\n",
    "plt.title(\"XGBoost Performance With Accelerometer\")\n",
    "plt.show()"
   ]
  },
  {
   "cell_type": "markdown",
   "id": "8d5ec749",
   "metadata": {},
   "source": [
    "### svc"
   ]
  },
  {
   "cell_type": "code",
   "execution_count": 62,
   "id": "6f227920",
   "metadata": {},
   "outputs": [
    {
     "data": {
      "text/plain": [
       "SVC()"
      ]
     },
     "execution_count": 62,
     "metadata": {},
     "output_type": "execute_result"
    }
   ],
   "source": [
    "svc2 = SVC()\n",
    "svc2.fit(x_train_copy_2, y_train.values.ravel())\n"
   ]
  },
  {
   "cell_type": "code",
   "execution_count": 63,
   "id": "56a9017a",
   "metadata": {},
   "outputs": [],
   "source": [
    "y_pred_svc2 = svc2.predict(x_test_copy_2)"
   ]
  },
  {
   "cell_type": "code",
   "execution_count": 64,
   "id": "816c5b7e",
   "metadata": {},
   "outputs": [
    {
     "name": "stdout",
     "output_type": "stream",
     "text": [
      "              precision    recall  f1-score   support\n",
      "\n",
      "           0       0.89      0.96      0.92       496\n",
      "           1       0.90      0.90      0.90       471\n",
      "           2       0.98      0.90      0.94       420\n",
      "           3       0.86      0.77      0.81       491\n",
      "           4       0.81      0.88      0.84       531\n",
      "           5       1.00      1.00      1.00       537\n",
      "\n",
      "    accuracy                           0.90      2946\n",
      "   macro avg       0.91      0.90      0.90      2946\n",
      "weighted avg       0.91      0.90      0.90      2946\n",
      "\n"
     ]
    }
   ],
   "source": [
    "print(classification_report(y_test, y_pred_svc2))"
   ]
  },
  {
   "cell_type": "code",
   "execution_count": 65,
   "id": "4f334382",
   "metadata": {},
   "outputs": [
    {
     "data": {
      "image/png": "[encoded data removed]",
      "text/plain": [
       "<Figure size 576x432 with 2 Axes>"
      ]
     },
     "metadata": {
      "needs_background": "light"
     },
     "output_type": "display_data"
    }
   ],
   "source": [
    "cm = confusion_matrix(y_test, y_pred_svc2)\n",
    "plt.figure(figsize=(8,6))\n",
    "sns.heatmap(cm, annot=True, cmap='Blues', fmt='d')\n",
    "plt.xlabel('Predicted Label')\n",
    "plt.ylabel('True Label')\n",
    "plt.show()"
   ]
  },
  {
   "cell_type": "code",
   "execution_count": 98,
   "id": "9d62f29d",
   "metadata": {},
   "outputs": [
    {
     "data": {
      "image/png": "[encoded data removed]",
      "text/plain": [
       "<Figure size 432x288 with 1 Axes>"
      ]
     },
     "metadata": {
      "needs_background": "light"
     },
     "output_type": "display_data"
    }
   ],
   "source": [
    "train_accuracy = svc2.score(x_train_copy_2, y_train.values.ravel())\n",
    "test_accuracy = svc2.score(x_test_copy_2, y_test.values.ravel())\n",
    "\n",
    "# Eğitim ve test başarılarını grafik olarak çizdirme\n",
    "accuracies = [train_accuracy, test_accuracy]\n",
    "plt.bar([\"Train Accuracy\", \"Test Accuracy\"], accuracies)\n",
    "plt.ylabel(\"Accuracy\")\n",
    "plt.title(\"SVM Performance With Accelerometer\")\n",
    "plt.show()"
   ]
  },
  {
   "cell_type": "code",
   "execution_count": 112,
   "id": "e0debedf",
   "metadata": {},
   "outputs": [
    {
     "name": "stdout",
     "output_type": "stream",
     "text": [
      "Epoch 1/150\n",
      "230/230 [==============================] - 3s 9ms/step - loss: 1.0750 - accuracy: 0.6369 - val_loss: 0.6938 - val_accuracy: 0.7712\n",
      "Epoch 2/150\n",
      "230/230 [==============================] - 2s 8ms/step - loss: 0.5215 - accuracy: 0.8452 - val_loss: 0.4488 - val_accuracy: 0.8534\n",
      "Epoch 3/150\n",
      "230/230 [==============================] - 1s 5ms/step - loss: 0.3566 - accuracy: 0.8823 - val_loss: 0.3379 - val_accuracy: 0.8717\n",
      "Epoch 4/150\n",
      "230/230 [==============================] - 2s 7ms/step - loss: 0.2847 - accuracy: 0.8988 - val_loss: 0.3462 - val_accuracy: 0.8561\n",
      "Epoch 5/150\n",
      "230/230 [==============================] - 2s 7ms/step - loss: 0.2451 - accuracy: 0.9113 - val_loss: 0.2739 - val_accuracy: 0.8958\n",
      "Epoch 6/150\n",
      "230/230 [==============================] - 1s 5ms/step - loss: 0.2182 - accuracy: 0.9166 - val_loss: 0.2729 - val_accuracy: 0.8924\n",
      "Epoch 7/150\n",
      "230/230 [==============================] - 1s 6ms/step - loss: 0.1994 - accuracy: 0.9256 - val_loss: 0.2826 - val_accuracy: 0.8887\n",
      "Epoch 8/150\n",
      "230/230 [==============================] - 1s 4ms/step - loss: 0.1817 - accuracy: 0.9318 - val_loss: 0.3125 - val_accuracy: 0.8666\n",
      "Epoch 9/150\n",
      "230/230 [==============================] - 1s 5ms/step - loss: 0.1710 - accuracy: 0.9344 - val_loss: 0.2771 - val_accuracy: 0.8921\n",
      "Epoch 10/150\n",
      "230/230 [==============================] - 1s 4ms/step - loss: 0.1613 - accuracy: 0.9373 - val_loss: 0.2855 - val_accuracy: 0.8907\n",
      "Epoch 11/150\n",
      "230/230 [==============================] - 1s 4ms/step - loss: 0.1548 - accuracy: 0.9391 - val_loss: 0.2620 - val_accuracy: 0.8944\n",
      "Epoch 12/150\n",
      "230/230 [==============================] - 1s 6ms/step - loss: 0.1442 - accuracy: 0.9438 - val_loss: 0.2852 - val_accuracy: 0.8873\n",
      "Epoch 13/150\n",
      "230/230 [==============================] - 1s 4ms/step - loss: 0.1389 - accuracy: 0.9475 - val_loss: 0.2620 - val_accuracy: 0.9002\n",
      "Epoch 14/150\n",
      "230/230 [==============================] - 1s 5ms/step - loss: 0.1327 - accuracy: 0.9472 - val_loss: 0.2714 - val_accuracy: 0.8907\n",
      "Epoch 15/150\n",
      "230/230 [==============================] - 1s 5ms/step - loss: 0.1319 - accuracy: 0.9469 - val_loss: 0.2645 - val_accuracy: 0.8938\n",
      "Epoch 16/150\n",
      "230/230 [==============================] - 1s 5ms/step - loss: 0.1247 - accuracy: 0.9513 - val_loss: 0.2733 - val_accuracy: 0.8971\n",
      "Epoch 17/150\n",
      "230/230 [==============================] - 1s 4ms/step - loss: 0.1235 - accuracy: 0.9506 - val_loss: 0.2692 - val_accuracy: 0.9012\n",
      "Epoch 18/150\n",
      "230/230 [==============================] - 1s 6ms/step - loss: 0.1207 - accuracy: 0.9505 - val_loss: 0.2763 - val_accuracy: 0.8890\n",
      "Epoch 19/150\n",
      "230/230 [==============================] - 2s 7ms/step - loss: 0.1184 - accuracy: 0.9532 - val_loss: 0.3114 - val_accuracy: 0.8812\n",
      "Epoch 20/150\n",
      "230/230 [==============================] - 1s 5ms/step - loss: 0.1146 - accuracy: 0.9540 - val_loss: 0.2758 - val_accuracy: 0.9022\n",
      "Epoch 21/150\n",
      "230/230 [==============================] - 2s 7ms/step - loss: 0.1187 - accuracy: 0.9523 - val_loss: 0.2680 - val_accuracy: 0.9022\n",
      "Epoch 22/150\n",
      "230/230 [==============================] - 2s 7ms/step - loss: 0.1136 - accuracy: 0.9531 - val_loss: 0.2620 - val_accuracy: 0.9005\n",
      "Epoch 23/150\n",
      "230/230 [==============================] - 1s 5ms/step - loss: 0.1102 - accuracy: 0.9552 - val_loss: 0.2888 - val_accuracy: 0.9053\n",
      "Epoch 24/150\n",
      "230/230 [==============================] - 1s 5ms/step - loss: 0.1074 - accuracy: 0.9561 - val_loss: 0.2649 - val_accuracy: 0.9033\n",
      "Epoch 25/150\n",
      "230/230 [==============================] - 1s 5ms/step - loss: 0.1061 - accuracy: 0.9550 - val_loss: 0.3124 - val_accuracy: 0.8880\n",
      "Epoch 26/150\n",
      "230/230 [==============================] - 1s 5ms/step - loss: 0.1039 - accuracy: 0.9559 - val_loss: 0.2970 - val_accuracy: 0.8897\n",
      "Epoch 27/150\n",
      "230/230 [==============================] - 1s 5ms/step - loss: 0.1020 - accuracy: 0.9570 - val_loss: 0.2813 - val_accuracy: 0.8995\n",
      "Epoch 28/150\n",
      "230/230 [==============================] - 1s 5ms/step - loss: 0.1034 - accuracy: 0.9586 - val_loss: 0.3195 - val_accuracy: 0.8897\n",
      "Epoch 29/150\n",
      "230/230 [==============================] - 2s 9ms/step - loss: 0.1020 - accuracy: 0.9554 - val_loss: 0.2956 - val_accuracy: 0.8951\n",
      "Epoch 30/150\n",
      "230/230 [==============================] - 1s 6ms/step - loss: 0.0981 - accuracy: 0.9591 - val_loss: 0.3052 - val_accuracy: 0.9036\n",
      "Epoch 31/150\n",
      "230/230 [==============================] - 1s 5ms/step - loss: 0.1013 - accuracy: 0.9555 - val_loss: 0.2750 - val_accuracy: 0.9067\n",
      "Epoch 32/150\n",
      "230/230 [==============================] - 1s 5ms/step - loss: 0.0994 - accuracy: 0.9574 - val_loss: 0.2823 - val_accuracy: 0.9063\n",
      "Epoch 33/150\n",
      "230/230 [==============================] - 1s 5ms/step - loss: 0.0973 - accuracy: 0.9596 - val_loss: 0.3219 - val_accuracy: 0.8910\n",
      "Epoch 34/150\n",
      "230/230 [==============================] - 1s 5ms/step - loss: 0.0955 - accuracy: 0.9616 - val_loss: 0.2898 - val_accuracy: 0.8995\n",
      "Epoch 35/150\n",
      "230/230 [==============================] - 1s 5ms/step - loss: 0.0962 - accuracy: 0.9585 - val_loss: 0.2779 - val_accuracy: 0.9026\n",
      "Epoch 36/150\n",
      "230/230 [==============================] - 1s 4ms/step - loss: 0.0953 - accuracy: 0.9593 - val_loss: 0.3009 - val_accuracy: 0.9043\n",
      "Epoch 37/150\n",
      "230/230 [==============================] - 1s 4ms/step - loss: 0.0937 - accuracy: 0.9588 - val_loss: 0.2801 - val_accuracy: 0.9070\n",
      "Epoch 38/150\n",
      "230/230 [==============================] - 1s 6ms/step - loss: 0.0930 - accuracy: 0.9608 - val_loss: 0.3047 - val_accuracy: 0.9087\n",
      "Epoch 39/150\n",
      "230/230 [==============================] - 1s 5ms/step - loss: 0.0923 - accuracy: 0.9603 - val_loss: 0.3244 - val_accuracy: 0.8988\n",
      "Epoch 40/150\n",
      "230/230 [==============================] - 1s 4ms/step - loss: 0.0923 - accuracy: 0.9619 - val_loss: 0.3136 - val_accuracy: 0.9036\n",
      "Epoch 41/150\n",
      "230/230 [==============================] - 1s 5ms/step - loss: 0.0891 - accuracy: 0.9633 - val_loss: 0.2774 - val_accuracy: 0.9138\n",
      "Epoch 42/150\n",
      "230/230 [==============================] - 1s 5ms/step - loss: 0.0897 - accuracy: 0.9604 - val_loss: 0.2841 - val_accuracy: 0.9114\n",
      "Epoch 43/150\n",
      "230/230 [==============================] - 1s 5ms/step - loss: 0.0884 - accuracy: 0.9623 - val_loss: 0.3465 - val_accuracy: 0.8958\n",
      "Epoch 44/150\n",
      "230/230 [==============================] - 1s 4ms/step - loss: 0.0872 - accuracy: 0.9635 - val_loss: 0.3224 - val_accuracy: 0.8971\n",
      "Epoch 45/150\n",
      "230/230 [==============================] - 1s 4ms/step - loss: 0.0868 - accuracy: 0.9626 - val_loss: 0.3153 - val_accuracy: 0.9043\n",
      "Epoch 46/150\n",
      "230/230 [==============================] - 1s 4ms/step - loss: 0.0865 - accuracy: 0.9641 - val_loss: 0.3110 - val_accuracy: 0.9077\n",
      "Epoch 47/150\n",
      "230/230 [==============================] - 1s 4ms/step - loss: 0.0885 - accuracy: 0.9619 - val_loss: 0.3151 - val_accuracy: 0.9026\n",
      "Epoch 48/150\n",
      "230/230 [==============================] - 1s 4ms/step - loss: 0.0872 - accuracy: 0.9625 - val_loss: 0.3490 - val_accuracy: 0.8995\n",
      "Epoch 49/150\n",
      "230/230 [==============================] - 1s 4ms/step - loss: 0.0847 - accuracy: 0.9635 - val_loss: 0.3116 - val_accuracy: 0.9019\n",
      "Epoch 50/150\n",
      "230/230 [==============================] - 1s 4ms/step - loss: 0.0849 - accuracy: 0.9633 - val_loss: 0.3253 - val_accuracy: 0.8988\n",
      "Epoch 51/150\n",
      "230/230 [==============================] - 1s 5ms/step - loss: 0.0854 - accuracy: 0.9646 - val_loss: 0.3006 - val_accuracy: 0.9063\n",
      "Epoch 52/150\n",
      "230/230 [==============================] - 1s 4ms/step - loss: 0.0832 - accuracy: 0.9645 - val_loss: 0.3274 - val_accuracy: 0.8988\n",
      "Epoch 53/150\n",
      "230/230 [==============================] - 1s 4ms/step - loss: 0.0824 - accuracy: 0.9657 - val_loss: 0.3247 - val_accuracy: 0.9026\n",
      "Epoch 54/150\n",
      "230/230 [==============================] - 1s 4ms/step - loss: 0.0824 - accuracy: 0.9657 - val_loss: 0.3026 - val_accuracy: 0.9056\n",
      "Epoch 55/150\n",
      "230/230 [==============================] - 1s 4ms/step - loss: 0.0800 - accuracy: 0.9649 - val_loss: 0.3108 - val_accuracy: 0.9046\n",
      "Epoch 56/150\n",
      "230/230 [==============================] - 1s 4ms/step - loss: 0.0834 - accuracy: 0.9648 - val_loss: 0.3312 - val_accuracy: 0.8924\n",
      "Epoch 57/150\n",
      "230/230 [==============================] - 1s 4ms/step - loss: 0.0793 - accuracy: 0.9672 - val_loss: 0.3166 - val_accuracy: 0.9070\n"
     ]
    },
    {
     "name": "stdout",
     "output_type": "stream",
     "text": [
      "Epoch 58/150\n",
      "230/230 [==============================] - 1s 5ms/step - loss: 0.0802 - accuracy: 0.9664 - val_loss: 0.3206 - val_accuracy: 0.9046\n",
      "Epoch 59/150\n",
      "230/230 [==============================] - 1s 4ms/step - loss: 0.0803 - accuracy: 0.9652 - val_loss: 0.3452 - val_accuracy: 0.8955\n",
      "Epoch 60/150\n",
      "230/230 [==============================] - 1s 4ms/step - loss: 0.0822 - accuracy: 0.9661 - val_loss: 0.2866 - val_accuracy: 0.9070\n",
      "Epoch 61/150\n",
      "230/230 [==============================] - 1s 4ms/step - loss: 0.0787 - accuracy: 0.9682 - val_loss: 0.3528 - val_accuracy: 0.8999\n",
      "Epoch 62/150\n",
      "230/230 [==============================] - 1s 4ms/step - loss: 0.0783 - accuracy: 0.9659 - val_loss: 0.3391 - val_accuracy: 0.9070\n",
      "Epoch 63/150\n",
      "230/230 [==============================] - 1s 4ms/step - loss: 0.0803 - accuracy: 0.9652 - val_loss: 0.3232 - val_accuracy: 0.9016\n",
      "Epoch 64/150\n",
      "230/230 [==============================] - 1s 4ms/step - loss: 0.0770 - accuracy: 0.9682 - val_loss: 0.3164 - val_accuracy: 0.9128\n",
      "Epoch 65/150\n",
      "230/230 [==============================] - 1s 4ms/step - loss: 0.0762 - accuracy: 0.9678 - val_loss: 0.3610 - val_accuracy: 0.9019\n",
      "Epoch 66/150\n",
      "230/230 [==============================] - 1s 4ms/step - loss: 0.0738 - accuracy: 0.9706 - val_loss: 0.3240 - val_accuracy: 0.9151\n",
      "Epoch 67/150\n",
      "230/230 [==============================] - 1s 4ms/step - loss: 0.0758 - accuracy: 0.9669 - val_loss: 0.3022 - val_accuracy: 0.9043\n",
      "Epoch 68/150\n",
      "230/230 [==============================] - 1s 4ms/step - loss: 0.0727 - accuracy: 0.9676 - val_loss: 0.3307 - val_accuracy: 0.9124\n",
      "Epoch 69/150\n",
      "230/230 [==============================] - 1s 4ms/step - loss: 0.0775 - accuracy: 0.9683 - val_loss: 0.3120 - val_accuracy: 0.9124\n",
      "Epoch 70/150\n",
      "230/230 [==============================] - 1s 4ms/step - loss: 0.0760 - accuracy: 0.9676 - val_loss: 0.3357 - val_accuracy: 0.9080\n",
      "Epoch 71/150\n",
      "230/230 [==============================] - 1s 4ms/step - loss: 0.0747 - accuracy: 0.9691 - val_loss: 0.3282 - val_accuracy: 0.9070\n",
      "Epoch 72/150\n",
      "230/230 [==============================] - 1s 4ms/step - loss: 0.0740 - accuracy: 0.9684 - val_loss: 0.3807 - val_accuracy: 0.9019\n",
      "Epoch 73/150\n",
      "230/230 [==============================] - 1s 4ms/step - loss: 0.0742 - accuracy: 0.9690 - val_loss: 0.3280 - val_accuracy: 0.9104\n",
      "Epoch 74/150\n",
      "230/230 [==============================] - 1s 4ms/step - loss: 0.0709 - accuracy: 0.9712 - val_loss: 0.3626 - val_accuracy: 0.9046\n",
      "Epoch 75/150\n",
      "230/230 [==============================] - 1s 4ms/step - loss: 0.0709 - accuracy: 0.9699 - val_loss: 0.3357 - val_accuracy: 0.9056\n",
      "Epoch 76/150\n",
      "230/230 [==============================] - 1s 4ms/step - loss: 0.0721 - accuracy: 0.9708 - val_loss: 0.3499 - val_accuracy: 0.8999\n",
      "Epoch 77/150\n",
      "230/230 [==============================] - 1s 4ms/step - loss: 0.0730 - accuracy: 0.9703 - val_loss: 0.3450 - val_accuracy: 0.9067\n",
      "Epoch 78/150\n",
      "230/230 [==============================] - 1s 4ms/step - loss: 0.0719 - accuracy: 0.9706 - val_loss: 0.3587 - val_accuracy: 0.9060\n",
      "Epoch 79/150\n",
      "230/230 [==============================] - 1s 4ms/step - loss: 0.0679 - accuracy: 0.9721 - val_loss: 0.3385 - val_accuracy: 0.9134\n",
      "Epoch 80/150\n",
      "230/230 [==============================] - 1s 4ms/step - loss: 0.0691 - accuracy: 0.9699 - val_loss: 0.3249 - val_accuracy: 0.9145\n",
      "Epoch 81/150\n",
      "230/230 [==============================] - 1s 4ms/step - loss: 0.0682 - accuracy: 0.9709 - val_loss: 0.3541 - val_accuracy: 0.9077\n",
      "Epoch 82/150\n",
      "230/230 [==============================] - 1s 4ms/step - loss: 0.0701 - accuracy: 0.9688 - val_loss: 0.3327 - val_accuracy: 0.9111\n",
      "Epoch 83/150\n",
      "230/230 [==============================] - 1s 4ms/step - loss: 0.0694 - accuracy: 0.9705 - val_loss: 0.3000 - val_accuracy: 0.9100\n",
      "Epoch 84/150\n",
      "230/230 [==============================] - 1s 4ms/step - loss: 0.0679 - accuracy: 0.9703 - val_loss: 0.3512 - val_accuracy: 0.9097\n",
      "Epoch 85/150\n",
      "230/230 [==============================] - 1s 4ms/step - loss: 0.0665 - accuracy: 0.9725 - val_loss: 0.3379 - val_accuracy: 0.9111\n",
      "Epoch 86/150\n",
      "230/230 [==============================] - 1s 4ms/step - loss: 0.0678 - accuracy: 0.9699 - val_loss: 0.3485 - val_accuracy: 0.9100\n",
      "Epoch 87/150\n",
      "230/230 [==============================] - 1s 4ms/step - loss: 0.0671 - accuracy: 0.9699 - val_loss: 0.3622 - val_accuracy: 0.9067\n",
      "Epoch 88/150\n",
      "230/230 [==============================] - 1s 4ms/step - loss: 0.0659 - accuracy: 0.9739 - val_loss: 0.3585 - val_accuracy: 0.9114\n",
      "Epoch 89/150\n",
      "230/230 [==============================] - 1s 4ms/step - loss: 0.0674 - accuracy: 0.9728 - val_loss: 0.3516 - val_accuracy: 0.9124\n",
      "Epoch 90/150\n",
      "230/230 [==============================] - 1s 5ms/step - loss: 0.0640 - accuracy: 0.9725 - val_loss: 0.3521 - val_accuracy: 0.9162\n",
      "Epoch 91/150\n",
      "230/230 [==============================] - 1s 4ms/step - loss: 0.0662 - accuracy: 0.9720 - val_loss: 0.3721 - val_accuracy: 0.9012\n",
      "Epoch 92/150\n",
      "230/230 [==============================] - 1s 4ms/step - loss: 0.0654 - accuracy: 0.9733 - val_loss: 0.3564 - val_accuracy: 0.9094\n",
      "Epoch 93/150\n",
      "230/230 [==============================] - 1s 4ms/step - loss: 0.0651 - accuracy: 0.9735 - val_loss: 0.3653 - val_accuracy: 0.9134\n",
      "Epoch 94/150\n",
      "230/230 [==============================] - 1s 5ms/step - loss: 0.0626 - accuracy: 0.9742 - val_loss: 0.3399 - val_accuracy: 0.9114\n",
      "Epoch 95/150\n",
      "230/230 [==============================] - 1s 4ms/step - loss: 0.0612 - accuracy: 0.9731 - val_loss: 0.3433 - val_accuracy: 0.9168\n",
      "Epoch 96/150\n",
      "230/230 [==============================] - 1s 4ms/step - loss: 0.0653 - accuracy: 0.9710 - val_loss: 0.3694 - val_accuracy: 0.9060\n",
      "Epoch 97/150\n",
      "230/230 [==============================] - 1s 4ms/step - loss: 0.0621 - accuracy: 0.9733 - val_loss: 0.3465 - val_accuracy: 0.9117\n",
      "Epoch 98/150\n",
      "230/230 [==============================] - 1s 4ms/step - loss: 0.0661 - accuracy: 0.9720 - val_loss: 0.3529 - val_accuracy: 0.9131\n",
      "Epoch 99/150\n",
      "230/230 [==============================] - 1s 4ms/step - loss: 0.0668 - accuracy: 0.9706 - val_loss: 0.3474 - val_accuracy: 0.9138\n",
      "Epoch 100/150\n",
      "230/230 [==============================] - 1s 4ms/step - loss: 0.0622 - accuracy: 0.9747 - val_loss: 0.3696 - val_accuracy: 0.9097\n",
      "Epoch 101/150\n",
      "230/230 [==============================] - 1s 4ms/step - loss: 0.0635 - accuracy: 0.9729 - val_loss: 0.3516 - val_accuracy: 0.9100\n",
      "Epoch 102/150\n",
      "230/230 [==============================] - 1s 4ms/step - loss: 0.0626 - accuracy: 0.9755 - val_loss: 0.4064 - val_accuracy: 0.9005\n",
      "Epoch 103/150\n",
      "230/230 [==============================] - 1s 4ms/step - loss: 0.0640 - accuracy: 0.9699 - val_loss: 0.3871 - val_accuracy: 0.9036\n",
      "Epoch 104/150\n",
      "230/230 [==============================] - 1s 4ms/step - loss: 0.0607 - accuracy: 0.9737 - val_loss: 0.4118 - val_accuracy: 0.9046\n",
      "Epoch 105/150\n",
      "230/230 [==============================] - 1s 4ms/step - loss: 0.0598 - accuracy: 0.9748 - val_loss: 0.4563 - val_accuracy: 0.8934\n",
      "Epoch 106/150\n",
      "230/230 [==============================] - 1s 4ms/step - loss: 0.0607 - accuracy: 0.9737 - val_loss: 0.3782 - val_accuracy: 0.9100\n",
      "Epoch 107/150\n",
      "230/230 [==============================] - 1s 4ms/step - loss: 0.0598 - accuracy: 0.9742 - val_loss: 0.3815 - val_accuracy: 0.9121\n",
      "Epoch 108/150\n",
      "230/230 [==============================] - 1s 4ms/step - loss: 0.0600 - accuracy: 0.9750 - val_loss: 0.3728 - val_accuracy: 0.9104\n",
      "Epoch 109/150\n",
      "230/230 [==============================] - 1s 4ms/step - loss: 0.0584 - accuracy: 0.9755 - val_loss: 0.3852 - val_accuracy: 0.9094\n",
      "Epoch 110/150\n",
      "230/230 [==============================] - 1s 4ms/step - loss: 0.0578 - accuracy: 0.9776 - val_loss: 0.4221 - val_accuracy: 0.8985\n",
      "Epoch 111/150\n",
      "230/230 [==============================] - 1s 4ms/step - loss: 0.0588 - accuracy: 0.9758 - val_loss: 0.3818 - val_accuracy: 0.9087\n",
      "Epoch 112/150\n",
      "230/230 [==============================] - 1s 4ms/step - loss: 0.0592 - accuracy: 0.9762 - val_loss: 0.3908 - val_accuracy: 0.9151\n",
      "Epoch 113/150\n",
      "230/230 [==============================] - 1s 4ms/step - loss: 0.0547 - accuracy: 0.9782 - val_loss: 0.3854 - val_accuracy: 0.9084\n",
      "Epoch 114/150\n",
      "230/230 [==============================] - 1s 4ms/step - loss: 0.0571 - accuracy: 0.9754 - val_loss: 0.3787 - val_accuracy: 0.9107\n"
     ]
    },
    {
     "name": "stdout",
     "output_type": "stream",
     "text": [
      "Epoch 115/150\n",
      "230/230 [==============================] - 1s 4ms/step - loss: 0.0575 - accuracy: 0.9766 - val_loss: 0.4016 - val_accuracy: 0.9080\n",
      "Epoch 116/150\n",
      "230/230 [==============================] - 1s 4ms/step - loss: 0.0582 - accuracy: 0.9758 - val_loss: 0.3740 - val_accuracy: 0.9148\n",
      "Epoch 117/150\n",
      "230/230 [==============================] - 1s 4ms/step - loss: 0.0585 - accuracy: 0.9758 - val_loss: 0.3762 - val_accuracy: 0.9121\n",
      "Epoch 118/150\n",
      "230/230 [==============================] - 1s 4ms/step - loss: 0.0611 - accuracy: 0.9727 - val_loss: 0.3268 - val_accuracy: 0.9165\n",
      "Epoch 119/150\n",
      "230/230 [==============================] - 1s 4ms/step - loss: 0.0582 - accuracy: 0.9771 - val_loss: 0.3726 - val_accuracy: 0.9094\n",
      "Epoch 120/150\n",
      "230/230 [==============================] - 1s 4ms/step - loss: 0.0579 - accuracy: 0.9780 - val_loss: 0.4218 - val_accuracy: 0.9107\n",
      "Epoch 121/150\n",
      "230/230 [==============================] - 1s 4ms/step - loss: 0.0564 - accuracy: 0.9769 - val_loss: 0.4101 - val_accuracy: 0.9117\n",
      "Epoch 122/150\n",
      "230/230 [==============================] - 1s 4ms/step - loss: 0.0557 - accuracy: 0.9792 - val_loss: 0.3707 - val_accuracy: 0.9100\n",
      "Epoch 123/150\n",
      "230/230 [==============================] - 1s 4ms/step - loss: 0.0578 - accuracy: 0.9748 - val_loss: 0.3641 - val_accuracy: 0.9145\n",
      "Epoch 124/150\n",
      "230/230 [==============================] - 1s 4ms/step - loss: 0.0540 - accuracy: 0.9773 - val_loss: 0.4177 - val_accuracy: 0.9131\n",
      "Epoch 125/150\n",
      "230/230 [==============================] - 1s 4ms/step - loss: 0.0529 - accuracy: 0.9773 - val_loss: 0.4421 - val_accuracy: 0.9046\n",
      "Epoch 126/150\n",
      "230/230 [==============================] - 1s 4ms/step - loss: 0.0538 - accuracy: 0.9780 - val_loss: 0.4472 - val_accuracy: 0.9080\n",
      "Epoch 127/150\n",
      "230/230 [==============================] - 1s 4ms/step - loss: 0.0532 - accuracy: 0.9773 - val_loss: 0.3886 - val_accuracy: 0.9179\n",
      "Epoch 128/150\n",
      "230/230 [==============================] - 1s 4ms/step - loss: 0.0495 - accuracy: 0.9800 - val_loss: 0.4311 - val_accuracy: 0.9138\n",
      "Epoch 129/150\n",
      "230/230 [==============================] - 1s 4ms/step - loss: 0.0551 - accuracy: 0.9786 - val_loss: 0.4019 - val_accuracy: 0.9128\n",
      "Epoch 130/150\n",
      "230/230 [==============================] - 1s 4ms/step - loss: 0.0544 - accuracy: 0.9774 - val_loss: 0.4456 - val_accuracy: 0.9063\n",
      "Epoch 131/150\n",
      "230/230 [==============================] - 1s 5ms/step - loss: 0.0521 - accuracy: 0.9769 - val_loss: 0.4190 - val_accuracy: 0.9138\n",
      "Epoch 132/150\n",
      "230/230 [==============================] - 1s 4ms/step - loss: 0.0521 - accuracy: 0.9792 - val_loss: 0.3762 - val_accuracy: 0.9124\n",
      "Epoch 133/150\n",
      "230/230 [==============================] - 1s 4ms/step - loss: 0.0529 - accuracy: 0.9774 - val_loss: 0.3740 - val_accuracy: 0.9145\n",
      "Epoch 134/150\n",
      "230/230 [==============================] - 1s 4ms/step - loss: 0.0519 - accuracy: 0.9781 - val_loss: 0.4324 - val_accuracy: 0.9073\n",
      "Epoch 135/150\n",
      "230/230 [==============================] - 1s 4ms/step - loss: 0.0521 - accuracy: 0.9766 - val_loss: 0.4164 - val_accuracy: 0.9117\n",
      "Epoch 136/150\n",
      "230/230 [==============================] - 1s 4ms/step - loss: 0.0541 - accuracy: 0.9767 - val_loss: 0.4304 - val_accuracy: 0.9097\n",
      "Epoch 137/150\n",
      "230/230 [==============================] - 1s 4ms/step - loss: 0.0518 - accuracy: 0.9796 - val_loss: 0.4251 - val_accuracy: 0.9104\n",
      "Epoch 138/150\n",
      "230/230 [==============================] - 1s 4ms/step - loss: 0.0524 - accuracy: 0.9789 - val_loss: 0.4381 - val_accuracy: 0.9063\n",
      "Epoch 139/150\n",
      "230/230 [==============================] - 1s 4ms/step - loss: 0.0528 - accuracy: 0.9780 - val_loss: 0.4335 - val_accuracy: 0.8978\n",
      "Epoch 140/150\n",
      "230/230 [==============================] - 1s 4ms/step - loss: 0.0534 - accuracy: 0.9791 - val_loss: 0.4251 - val_accuracy: 0.9087\n",
      "Epoch 141/150\n",
      "230/230 [==============================] - 1s 4ms/step - loss: 0.0503 - accuracy: 0.9791 - val_loss: 0.3977 - val_accuracy: 0.9148\n",
      "Epoch 142/150\n",
      "230/230 [==============================] - 1s 4ms/step - loss: 0.0510 - accuracy: 0.9778 - val_loss: 0.4061 - val_accuracy: 0.9124\n",
      "Epoch 143/150\n",
      "230/230 [==============================] - 1s 4ms/step - loss: 0.0478 - accuracy: 0.9800 - val_loss: 0.4324 - val_accuracy: 0.9128\n",
      "Epoch 144/150\n",
      "230/230 [==============================] - 1s 4ms/step - loss: 0.0484 - accuracy: 0.9812 - val_loss: 0.4064 - val_accuracy: 0.9107\n",
      "Epoch 145/150\n",
      "230/230 [==============================] - 1s 4ms/step - loss: 0.0526 - accuracy: 0.9786 - val_loss: 0.3887 - val_accuracy: 0.9145\n",
      "Epoch 146/150\n",
      "230/230 [==============================] - 1s 4ms/step - loss: 0.0505 - accuracy: 0.9796 - val_loss: 0.4353 - val_accuracy: 0.9090\n",
      "Epoch 147/150\n",
      "230/230 [==============================] - 1s 5ms/step - loss: 0.0524 - accuracy: 0.9793 - val_loss: 0.4235 - val_accuracy: 0.9114\n",
      "Epoch 148/150\n",
      "230/230 [==============================] - 1s 4ms/step - loss: 0.0464 - accuracy: 0.9810 - val_loss: 0.4704 - val_accuracy: 0.9060\n",
      "Epoch 149/150\n",
      "230/230 [==============================] - 1s 4ms/step - loss: 0.0478 - accuracy: 0.9799 - val_loss: 0.4405 - val_accuracy: 0.9104\n",
      "Epoch 150/150\n",
      "230/230 [==============================] - 1s 4ms/step - loss: 0.0492 - accuracy: 0.9793 - val_loss: 0.4369 - val_accuracy: 0.9104\n"
     ]
    }
   ],
   "source": [
    "model = Sequential()\n",
    "model.add(Dense(units=64,kernel_initializer='normal',activation='sigmoid',input_dim=x_train_copy_2.shape[1]))\n",
    "model.add(Dropout(0.2))\n",
    "model.add(Dense(units=6,kernel_initializer='normal',activation='softmax'))\n",
    "model.compile(optimizer='adam',loss='sparse_categorical_crossentropy',metrics=['accuracy'])\n",
    "history = model.fit(x_train_copy_2, y_train, batch_size = 32, epochs= 150,validation_data = (x_test_copy_2,y_test))"
   ]
  },
  {
   "cell_type": "code",
   "execution_count": 113,
   "id": "e16f5279",
   "metadata": {},
   "outputs": [
    {
     "name": "stdout",
     "output_type": "stream",
     "text": [
      "93/93 [==============================] - 0s 3ms/step - loss: 0.4369 - accuracy: 0.9104\n"
     ]
    }
   ],
   "source": [
    "_, accuracy = model.evaluate(x_test_copy_2,y_test)\n"
   ]
  },
  {
   "cell_type": "code",
   "execution_count": 114,
   "id": "f59ae15f",
   "metadata": {},
   "outputs": [
    {
     "data": {
      "image/png": "[encoded data removed]",
      "text/plain": [
       "<Figure size 432x288 with 1 Axes>"
      ]
     },
     "metadata": {
      "needs_background": "light"
     },
     "output_type": "display_data"
    }
   ],
   "source": [
    "import matplotlib.pyplot as plt\n",
    "\n",
    "plt.plot(history.history['accuracy'], label='Training Accuracy')\n",
    "plt.plot(history.history['val_accuracy'], label='Test Accuracy')\n",
    "plt.xlabel('Epochs')\n",
    "plt.ylabel('Accuracy')\n",
    "plt.legend()\n",
    "plt.show()"
   ]
  },
  {
   "cell_type": "code",
   "execution_count": 116,
   "id": "f43f58b9",
   "metadata": {},
   "outputs": [
    {
     "name": "stdout",
     "output_type": "stream",
     "text": [
      "93/93 [==============================] - 0s 2ms/step\n",
      "[[487   7   2   0   0   0]\n",
      " [ 53 412   6   0   0   0]\n",
      " [  7  12 401   0   0   0]\n",
      " [  0   1   0 400  90   0]\n",
      " [  0   0   0  72 459   0]\n",
      " [  0   0   0   0  14 523]]\n"
     ]
    }
   ],
   "source": [
    "# Test verileri üzerinde tahminlerin hesaplanması\n",
    "y_pred = model.predict(x_test_copy_2)\n",
    "y_pred_classes = np.argmax(y_pred, axis=1)\n",
    "\n",
    "# Confusion matrix'in hesaplanması\n",
    "conf_matrix = confusion_matrix(y_test, y_pred_classes)\n",
    "print(conf_matrix)"
   ]
  },
  {
   "cell_type": "code",
   "execution_count": 117,
   "id": "96eb90ca",
   "metadata": {},
   "outputs": [
    {
     "data": {
      "image/png": "[encoded data removed]",
      "text/plain": [
       "<Figure size 576x432 with 2 Axes>"
      ]
     },
     "metadata": {
      "needs_background": "light"
     },
     "output_type": "display_data"
    }
   ],
   "source": [
    "cm = confusion_matrix(y_test, y_pred_classes)\n",
    "plt.figure(figsize=(8, 6))\n",
    "sns.heatmap(cm, annot=True, cmap='Blues', fmt='d')\n",
    "plt.xlabel('Predicted Label')\n",
    "plt.ylabel('True Label')\n",
    "plt.show()"
   ]
  },
  {
   "cell_type": "code",
   "execution_count": 118,
   "id": "1f1f04eb",
   "metadata": {},
   "outputs": [
    {
     "name": "stdout",
     "output_type": "stream",
     "text": [
      "              precision    recall  f1-score   support\n",
      "\n",
      "           0       0.89      0.98      0.93       496\n",
      "           1       0.95      0.87      0.91       471\n",
      "           2       0.98      0.95      0.97       420\n",
      "           3       0.85      0.81      0.83       491\n",
      "           4       0.82      0.86      0.84       531\n",
      "           5       1.00      0.97      0.99       537\n",
      "\n",
      "    accuracy                           0.91      2946\n",
      "   macro avg       0.91      0.91      0.91      2946\n",
      "weighted avg       0.91      0.91      0.91      2946\n",
      "\n"
     ]
    }
   ],
   "source": [
    "class_report = classification_report(y_test, y_pred_classes)\n",
    "print(class_report)"
   ]
  }
 ],
 "metadata": {
  "kernelspec": {
   "display_name": "Python 3 (ipykernel)",
   "language": "python",
   "name": "python3"
  },
  "language_info": {
   "codemirror_mode": {
    "name": "ipython",
    "version": 3
   },
   "file_extension": ".py",
   "mimetype": "text/x-python",
   "name": "python",
   "nbconvert_exporter": "python",
   "pygments_lexer": "ipython3",
   "version": "3.9.12"
  }
 },
 "nbformat": 4,
 "nbformat_minor": 5
}
